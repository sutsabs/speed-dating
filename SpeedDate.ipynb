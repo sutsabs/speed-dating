{
 "cells": [
  {
   "cell_type": "code",
   "execution_count": 1,
   "metadata": {
    "nbpresent": {
     "id": "c9806ca0-982a-4988-98e9-352baab78789"
    }
   },
   "outputs": [],
   "source": [
    "# importing packages\n",
    "%matplotlib inline\n",
    "import pandas as pd\n",
    "pd.options.display.max_rows = 1000 #handy for showing truncated results\n",
    "import matplotlib.pyplot as plt\n",
    "import numpy as np\n",
    "import seaborn as sns\n",
    "import statsmodels.api as sm\n",
    "from sklearn.model_selection import train_test_split\n",
    "from sklearn.linear_model import LogisticRegression\n",
    "from sklearn.ensemble import RandomForestClassifier\n",
    "from sklearn.ensemble import GradientBoostingClassifier\n",
    "from sklearn import metrics"
   ]
  },
  {
   "cell_type": "code",
   "execution_count": 2,
   "metadata": {
    "nbpresent": {
     "id": "df5c1106-3d80-444f-a5eb-2f79c80b307e"
    }
   },
   "outputs": [],
   "source": [
    "import os\n",
    "os.chdir(\"C:/Users/sutsa/\")"
   ]
  },
  {
   "cell_type": "code",
   "execution_count": 3,
   "metadata": {
    "nbpresent": {
     "id": "0a944b1a-fcfc-433b-815c-6db82fb42ff6"
    }
   },
   "outputs": [
    {
     "data": {
      "text/html": [
       "<div>\n",
       "<style scoped>\n",
       "    .dataframe tbody tr th:only-of-type {\n",
       "        vertical-align: middle;\n",
       "    }\n",
       "\n",
       "    .dataframe tbody tr th {\n",
       "        vertical-align: top;\n",
       "    }\n",
       "\n",
       "    .dataframe thead th {\n",
       "        text-align: right;\n",
       "    }\n",
       "</style>\n",
       "<table border=\"1\" class=\"dataframe\">\n",
       "  <thead>\n",
       "    <tr style=\"text-align: right;\">\n",
       "      <th></th>\n",
       "      <th>iid</th>\n",
       "      <th>id</th>\n",
       "      <th>gender</th>\n",
       "      <th>idg</th>\n",
       "      <th>condtn</th>\n",
       "      <th>wave</th>\n",
       "      <th>round</th>\n",
       "      <th>position</th>\n",
       "      <th>positin1</th>\n",
       "      <th>order</th>\n",
       "      <th>...</th>\n",
       "      <th>attr3_3</th>\n",
       "      <th>sinc3_3</th>\n",
       "      <th>intel3_3</th>\n",
       "      <th>fun3_3</th>\n",
       "      <th>amb3_3</th>\n",
       "      <th>attr5_3</th>\n",
       "      <th>sinc5_3</th>\n",
       "      <th>intel5_3</th>\n",
       "      <th>fun5_3</th>\n",
       "      <th>amb5_3</th>\n",
       "    </tr>\n",
       "  </thead>\n",
       "  <tbody>\n",
       "    <tr>\n",
       "      <th>0</th>\n",
       "      <td>1</td>\n",
       "      <td>1.0</td>\n",
       "      <td>0</td>\n",
       "      <td>1</td>\n",
       "      <td>1</td>\n",
       "      <td>1</td>\n",
       "      <td>10</td>\n",
       "      <td>7</td>\n",
       "      <td>NaN</td>\n",
       "      <td>4</td>\n",
       "      <td>...</td>\n",
       "      <td>5.0</td>\n",
       "      <td>7.0</td>\n",
       "      <td>7.0</td>\n",
       "      <td>7.0</td>\n",
       "      <td>7.0</td>\n",
       "      <td>NaN</td>\n",
       "      <td>NaN</td>\n",
       "      <td>NaN</td>\n",
       "      <td>NaN</td>\n",
       "      <td>NaN</td>\n",
       "    </tr>\n",
       "    <tr>\n",
       "      <th>1</th>\n",
       "      <td>1</td>\n",
       "      <td>1.0</td>\n",
       "      <td>0</td>\n",
       "      <td>1</td>\n",
       "      <td>1</td>\n",
       "      <td>1</td>\n",
       "      <td>10</td>\n",
       "      <td>7</td>\n",
       "      <td>NaN</td>\n",
       "      <td>3</td>\n",
       "      <td>...</td>\n",
       "      <td>5.0</td>\n",
       "      <td>7.0</td>\n",
       "      <td>7.0</td>\n",
       "      <td>7.0</td>\n",
       "      <td>7.0</td>\n",
       "      <td>NaN</td>\n",
       "      <td>NaN</td>\n",
       "      <td>NaN</td>\n",
       "      <td>NaN</td>\n",
       "      <td>NaN</td>\n",
       "    </tr>\n",
       "    <tr>\n",
       "      <th>2</th>\n",
       "      <td>1</td>\n",
       "      <td>1.0</td>\n",
       "      <td>0</td>\n",
       "      <td>1</td>\n",
       "      <td>1</td>\n",
       "      <td>1</td>\n",
       "      <td>10</td>\n",
       "      <td>7</td>\n",
       "      <td>NaN</td>\n",
       "      <td>10</td>\n",
       "      <td>...</td>\n",
       "      <td>5.0</td>\n",
       "      <td>7.0</td>\n",
       "      <td>7.0</td>\n",
       "      <td>7.0</td>\n",
       "      <td>7.0</td>\n",
       "      <td>NaN</td>\n",
       "      <td>NaN</td>\n",
       "      <td>NaN</td>\n",
       "      <td>NaN</td>\n",
       "      <td>NaN</td>\n",
       "    </tr>\n",
       "    <tr>\n",
       "      <th>3</th>\n",
       "      <td>1</td>\n",
       "      <td>1.0</td>\n",
       "      <td>0</td>\n",
       "      <td>1</td>\n",
       "      <td>1</td>\n",
       "      <td>1</td>\n",
       "      <td>10</td>\n",
       "      <td>7</td>\n",
       "      <td>NaN</td>\n",
       "      <td>5</td>\n",
       "      <td>...</td>\n",
       "      <td>5.0</td>\n",
       "      <td>7.0</td>\n",
       "      <td>7.0</td>\n",
       "      <td>7.0</td>\n",
       "      <td>7.0</td>\n",
       "      <td>NaN</td>\n",
       "      <td>NaN</td>\n",
       "      <td>NaN</td>\n",
       "      <td>NaN</td>\n",
       "      <td>NaN</td>\n",
       "    </tr>\n",
       "    <tr>\n",
       "      <th>4</th>\n",
       "      <td>1</td>\n",
       "      <td>1.0</td>\n",
       "      <td>0</td>\n",
       "      <td>1</td>\n",
       "      <td>1</td>\n",
       "      <td>1</td>\n",
       "      <td>10</td>\n",
       "      <td>7</td>\n",
       "      <td>NaN</td>\n",
       "      <td>7</td>\n",
       "      <td>...</td>\n",
       "      <td>5.0</td>\n",
       "      <td>7.0</td>\n",
       "      <td>7.0</td>\n",
       "      <td>7.0</td>\n",
       "      <td>7.0</td>\n",
       "      <td>NaN</td>\n",
       "      <td>NaN</td>\n",
       "      <td>NaN</td>\n",
       "      <td>NaN</td>\n",
       "      <td>NaN</td>\n",
       "    </tr>\n",
       "  </tbody>\n",
       "</table>\n",
       "<p>5 rows × 195 columns</p>\n",
       "</div>"
      ],
      "text/plain": [
       "   iid   id  gender  idg  condtn  wave  round  position  positin1  order  ...  \\\n",
       "0    1  1.0       0    1       1     1     10         7       NaN      4  ...   \n",
       "1    1  1.0       0    1       1     1     10         7       NaN      3  ...   \n",
       "2    1  1.0       0    1       1     1     10         7       NaN     10  ...   \n",
       "3    1  1.0       0    1       1     1     10         7       NaN      5  ...   \n",
       "4    1  1.0       0    1       1     1     10         7       NaN      7  ...   \n",
       "\n",
       "   attr3_3  sinc3_3  intel3_3  fun3_3  amb3_3  attr5_3  sinc5_3  intel5_3  \\\n",
       "0      5.0      7.0       7.0     7.0     7.0      NaN      NaN       NaN   \n",
       "1      5.0      7.0       7.0     7.0     7.0      NaN      NaN       NaN   \n",
       "2      5.0      7.0       7.0     7.0     7.0      NaN      NaN       NaN   \n",
       "3      5.0      7.0       7.0     7.0     7.0      NaN      NaN       NaN   \n",
       "4      5.0      7.0       7.0     7.0     7.0      NaN      NaN       NaN   \n",
       "\n",
       "   fun5_3  amb5_3  \n",
       "0     NaN     NaN  \n",
       "1     NaN     NaN  \n",
       "2     NaN     NaN  \n",
       "3     NaN     NaN  \n",
       "4     NaN     NaN  \n",
       "\n",
       "[5 rows x 195 columns]"
      ]
     },
     "execution_count": 3,
     "metadata": {},
     "output_type": "execute_result"
    }
   ],
   "source": [
    "# importing data\n",
    "dating = pd.read_csv(\"speed/Speed Dating Data.csv\", encoding=\"ISO-8859-1\") # use this encoding, funky error otherwise. thanks kagglers!\n",
    "dating.head(5)\n",
    "\n"
   ]
  },
  {
   "cell_type": "code",
   "execution_count": 4,
   "metadata": {
    "nbpresent": {
     "id": "198729aa-c65a-49c1-ba74-e84181a66767"
    }
   },
   "outputs": [
    {
     "data": {
      "text/plain": [
       "iid            0\n",
       "id             1\n",
       "gender         0\n",
       "idg            0\n",
       "condtn         0\n",
       "wave           0\n",
       "round          0\n",
       "position       0\n",
       "positin1    1846\n",
       "order          0\n",
       "partner        0\n",
       "pid           10\n",
       "match          0\n",
       "int_corr     158\n",
       "samerace       0\n",
       "age_o        104\n",
       "race_o        73\n",
       "pf_o_att      89\n",
       "pf_o_sin      89\n",
       "pf_o_int      89\n",
       "pf_o_fun      98\n",
       "pf_o_amb     107\n",
       "pf_o_sha     129\n",
       "dec_o          0\n",
       "attr_o       212\n",
       "sinc_o       287\n",
       "intel_o      306\n",
       "fun_o        360\n",
       "amb_o        722\n",
       "shar_o      1076\n",
       "like_o       250\n",
       "prob_o       318\n",
       "met_o        385\n",
       "age           95\n",
       "field         63\n",
       "field_cd      82\n",
       "undergra    3464\n",
       "mn_sat      5245\n",
       "tuition     4795\n",
       "race          63\n",
       "imprace       79\n",
       "imprelig      79\n",
       "from          79\n",
       "zipcode     1064\n",
       "income      4099\n",
       "goal          79\n",
       "date          97\n",
       "go_out        79\n",
       "career        89\n",
       "career_c     138\n",
       "sports        79\n",
       "tvsports      79\n",
       "exercise      79\n",
       "dining        79\n",
       "museums       79\n",
       "art           79\n",
       "hiking        79\n",
       "gaming        79\n",
       "clubbing      79\n",
       "reading       79\n",
       "tv            79\n",
       "theater       79\n",
       "movies        79\n",
       "concerts      79\n",
       "music         79\n",
       "shopping      79\n",
       "yoga          79\n",
       "exphappy     101\n",
       "expnum      6578\n",
       "attr1_1       79\n",
       "sinc1_1       79\n",
       "intel1_1      79\n",
       "fun1_1        89\n",
       "amb1_1        99\n",
       "shar1_1      121\n",
       "attr4_1     1889\n",
       "sinc4_1     1889\n",
       "intel4_1    1889\n",
       "fun4_1      1889\n",
       "amb4_1      1889\n",
       "shar4_1     1911\n",
       "attr2_1       79\n",
       "sinc2_1       79\n",
       "intel2_1      79\n",
       "fun2_1        79\n",
       "amb2_1        89\n",
       "shar2_1       89\n",
       "attr3_1      105\n",
       "sinc3_1      105\n",
       "fun3_1       105\n",
       "intel3_1     105\n",
       "amb3_1       105\n",
       "attr5_1     3472\n",
       "sinc5_1     3472\n",
       "intel5_1    3472\n",
       "fun5_1      3472\n",
       "amb5_1      3472\n",
       "dec            0\n",
       "attr         202\n",
       "sinc         277\n",
       "intel        296\n",
       "fun          350\n",
       "amb          712\n",
       "shar        1067\n",
       "like         240\n",
       "prob         309\n",
       "met          375\n",
       "match_es    1173\n",
       "attr1_s     4282\n",
       "sinc1_s     4282\n",
       "intel1_s    4282\n",
       "fun1_s      4282\n",
       "amb1_s      4282\n",
       "shar1_s     4282\n",
       "attr3_s     4378\n",
       "sinc3_s     4378\n",
       "intel3_s    4378\n",
       "fun3_s      4378\n",
       "amb3_s      4378\n",
       "satis_2      915\n",
       "length       915\n",
       "numdat_2     945\n",
       "attr7_2     6394\n",
       "sinc7_2     6423\n",
       "intel7_2    6394\n",
       "fun7_2      6394\n",
       "amb7_2      6423\n",
       "shar7_2     6404\n",
       "attr1_2      933\n",
       "sinc1_2      915\n",
       "intel1_2     915\n",
       "fun1_2       915\n",
       "amb1_2       915\n",
       "shar1_2      915\n",
       "attr4_2     2603\n",
       "sinc4_2     2603\n",
       "intel4_2    2603\n",
       "fun4_2      2603\n",
       "amb4_2      2603\n",
       "shar4_2     2603\n",
       "attr2_2     2603\n",
       "sinc2_2     2603\n",
       "intel2_2    2603\n",
       "fun2_2      2603\n",
       "amb2_2      2603\n",
       "shar2_2     2603\n",
       "attr3_2      915\n",
       "sinc3_2      915\n",
       "intel3_2     915\n",
       "fun3_2       915\n",
       "amb3_2       915\n",
       "attr5_2     4001\n",
       "sinc5_2     4001\n",
       "intel5_2    4001\n",
       "fun5_2      4001\n",
       "amb5_2      4001\n",
       "you_call    4404\n",
       "them_cal    4404\n",
       "date_3      4404\n",
       "numdat_3    6882\n",
       "num_in_3    7710\n",
       "attr1_3     4404\n",
       "sinc1_3     4404\n",
       "intel1_3    4404\n",
       "fun1_3      4404\n",
       "amb1_3      4404\n",
       "shar1_3     4404\n",
       "attr7_3     6362\n",
       "sinc7_3     6362\n",
       "intel7_3    6362\n",
       "fun7_3      6362\n",
       "amb7_3      6362\n",
       "shar7_3     6362\n",
       "attr4_3     5419\n",
       "sinc4_3     5419\n",
       "intel4_3    5419\n",
       "fun4_3      5419\n",
       "amb4_3      5419\n",
       "shar4_3     5419\n",
       "attr2_3     5419\n",
       "sinc2_3     5419\n",
       "intel2_3    5419\n",
       "fun2_3      5419\n",
       "amb2_3      5419\n",
       "shar2_3     6362\n",
       "attr3_3     4404\n",
       "sinc3_3     4404\n",
       "intel3_3    4404\n",
       "fun3_3      4404\n",
       "amb3_3      4404\n",
       "attr5_3     6362\n",
       "sinc5_3     6362\n",
       "intel5_3    6362\n",
       "fun5_3      6362\n",
       "amb5_3      6362\n",
       "dtype: int64"
      ]
     },
     "execution_count": 4,
     "metadata": {},
     "output_type": "execute_result"
    }
   ],
   "source": [
    "# counting null values\n",
    "dating.isnull().sum()"
   ]
  },
  {
   "cell_type": "markdown",
   "metadata": {
    "nbpresent": {
     "id": "68ef6021-9cf1-4a0f-960e-82afb7de1a8b"
    }
   },
   "source": [
    "Data Cleaning and EDA\n",
    "\n",
    "From the peek at the data we had above, there are a ton of fields with NaNs. A lot of NaNs. There are 8,378 rows and a bunch of fields have thousands of NaNs and probably bad practice to use imputation to guess the values. Instead, I'll just disregard these fields with over 4000 null values from the dataset and narrow my analysis to the fields that I can use. First though, let's take a look at some totals before we throw out some fields and rows due to missing values."
   ]
  },
  {
   "cell_type": "code",
   "execution_count": 5,
   "metadata": {
    "nbpresent": {
     "id": "fb0d01c4-4ee3-498c-a63a-e08a82aac7a6"
    }
   },
   "outputs": [
    {
     "data": {
      "text/plain": [
       "Text(0, 0.5, 'Frequency')"
      ]
     },
     "execution_count": 5,
     "metadata": {},
     "output_type": "execute_result"
    },
    {
     "data": {
      "image/png": "[encoded data removed]",
      "text/plain": [
       "<Figure size 432x288 with 1 Axes>"
      ]
     },
     "metadata": {
      "needs_background": "light"
     },
     "output_type": "display_data"
    }
   ],
   "source": [
    "# age distribution of participants\n",
    "age = dating[np.isfinite(dating['age'])]['age']\n",
    "plt.hist(age.values)\n",
    "plt.xlabel('Age')\n",
    "plt.ylabel('Frequency')"
   ]
  },
  {
   "cell_type": "markdown",
   "metadata": {
    "nbpresent": {
     "id": "6862115f-08f8-42cd-876a-61012c8280ae"
    }
   },
   "source": [
    "So most of the participants were in their mid twenties to early thirties."
   ]
  },
  {
   "cell_type": "code",
   "execution_count": 6,
   "metadata": {
    "nbpresent": {
     "id": "a295feca-64f7-471e-939a-874f56e3d3de"
    }
   },
   "outputs": [
    {
     "data": {
      "text/html": [
       "<div>\n",
       "<style scoped>\n",
       "    .dataframe tbody tr th:only-of-type {\n",
       "        vertical-align: middle;\n",
       "    }\n",
       "\n",
       "    .dataframe tbody tr th {\n",
       "        vertical-align: top;\n",
       "    }\n",
       "\n",
       "    .dataframe thead th {\n",
       "        text-align: right;\n",
       "    }\n",
       "</style>\n",
       "<table border=\"1\" class=\"dataframe\">\n",
       "  <thead>\n",
       "    <tr style=\"text-align: right;\">\n",
       "      <th>col_0</th>\n",
       "      <th>count</th>\n",
       "    </tr>\n",
       "    <tr>\n",
       "      <th>match</th>\n",
       "      <th></th>\n",
       "    </tr>\n",
       "  </thead>\n",
       "  <tbody>\n",
       "    <tr>\n",
       "      <th>0</th>\n",
       "      <td>6998</td>\n",
       "    </tr>\n",
       "    <tr>\n",
       "      <th>1</th>\n",
       "      <td>1380</td>\n",
       "    </tr>\n",
       "  </tbody>\n",
       "</table>\n",
       "</div>"
      ],
      "text/plain": [
       "col_0  count\n",
       "match       \n",
       "0       6998\n",
       "1       1380"
      ]
     },
     "execution_count": 6,
     "metadata": {},
     "output_type": "execute_result"
    }
   ],
   "source": [
    "# out of curiosity, I want to see how many speed daters found a match!\n",
    "pd.crosstab(index=dating['match'],columns=\"count\")"
   ]
  },
  {
   "cell_type": "markdown",
   "metadata": {
    "nbpresent": {
     "id": "68750a54-65fa-4287-aa59-938ef80ff557"
    }
   },
   "source": [
    "It looks like only about 20% of people found themselves a second date after the speed dating session!"
   ]
  },
  {
   "cell_type": "code",
   "execution_count": 7,
   "metadata": {
    "nbpresent": {
     "id": "afcd2b9e-8ba0-49b0-817a-0cf516316d0f"
    }
   },
   "outputs": [],
   "source": [
    "# narrowing dataset\n",
    "dating_1 = dating.iloc[:, 11:28]\n",
    "dating_2 = dating.iloc[:, 30:35]\n",
    "dating_3 = dating.iloc[:, 39:43]\n",
    "dating_4 = dating.iloc[:, 45:67]\n",
    "dating_5 = dating.iloc[:, 69:74]\n",
    "dating_6 = dating.iloc[:, 87:91]\n",
    "dating_7 = dating.iloc[:, 97:102]\n",
    "dating_8 = dating.iloc[:, 104:107]\n",
    "\n",
    "date = pd.concat([dating.iloc[:, 0],dating.iloc[:, 2],dating_1,dating_2,dating_3,dating_4,dating_5,\n",
    "                  dating_6,dating_7,dating_8], axis=1)"
   ]
  },
  {
   "cell_type": "code",
   "execution_count": 8,
   "metadata": {
    "nbpresent": {
     "id": "bf60024b-689e-4809-86ef-3a6804234956"
    }
   },
   "outputs": [
    {
     "data": {
      "text/plain": [
       "iid           0\n",
       "gender        0\n",
       "pid          10\n",
       "match         0\n",
       "int_corr    158\n",
       "samerace      0\n",
       "age_o       104\n",
       "race_o       73\n",
       "pf_o_att     89\n",
       "pf_o_sin     89\n",
       "pf_o_int     89\n",
       "pf_o_fun     98\n",
       "pf_o_amb    107\n",
       "pf_o_sha    129\n",
       "dec_o         0\n",
       "attr_o      212\n",
       "sinc_o      287\n",
       "intel_o     306\n",
       "fun_o       360\n",
       "like_o      250\n",
       "prob_o      318\n",
       "met_o       385\n",
       "age          95\n",
       "field        63\n",
       "race         63\n",
       "imprace      79\n",
       "imprelig     79\n",
       "from         79\n",
       "goal         79\n",
       "date         97\n",
       "go_out       79\n",
       "career       89\n",
       "career_c    138\n",
       "sports       79\n",
       "tvsports     79\n",
       "exercise     79\n",
       "dining       79\n",
       "museums      79\n",
       "art          79\n",
       "hiking       79\n",
       "gaming       79\n",
       "clubbing     79\n",
       "reading      79\n",
       "tv           79\n",
       "theater      79\n",
       "movies       79\n",
       "concerts     79\n",
       "music        79\n",
       "shopping     79\n",
       "yoga         79\n",
       "attr1_1      79\n",
       "sinc1_1      79\n",
       "intel1_1     79\n",
       "fun1_1       89\n",
       "amb1_1       99\n",
       "attr3_1     105\n",
       "sinc3_1     105\n",
       "fun3_1      105\n",
       "intel3_1    105\n",
       "dec           0\n",
       "attr        202\n",
       "sinc        277\n",
       "intel       296\n",
       "fun         350\n",
       "like        240\n",
       "prob        309\n",
       "met         375\n",
       "dtype: int64"
      ]
     },
     "execution_count": 8,
     "metadata": {},
     "output_type": "execute_result"
    }
   ],
   "source": [
    "# counting null values\n",
    "date.isnull().sum()"
   ]
  },
  {
   "cell_type": "code",
   "execution_count": 9,
   "metadata": {
    "nbpresent": {
     "id": "4d696f40-3834-4e95-a4cf-c0da9c60d17d"
    }
   },
   "outputs": [],
   "source": [
    "# removing null rows now that the nulls are in the hundreds and not the thousands\n",
    "date2 = date.dropna()"
   ]
  },
  {
   "cell_type": "code",
   "execution_count": 10,
   "metadata": {
    "nbpresent": {
     "id": "0e2ff314-6195-49e8-aa10-95d4fd570322"
    }
   },
   "outputs": [
    {
     "data": {
      "text/plain": [
       "iid           int64\n",
       "gender        int64\n",
       "pid         float64\n",
       "match         int64\n",
       "int_corr    float64\n",
       "samerace      int64\n",
       "age_o       float64\n",
       "race_o      float64\n",
       "pf_o_att    float64\n",
       "pf_o_sin    float64\n",
       "pf_o_int    float64\n",
       "pf_o_fun    float64\n",
       "pf_o_amb    float64\n",
       "pf_o_sha    float64\n",
       "dec_o         int64\n",
       "attr_o      float64\n",
       "sinc_o      float64\n",
       "intel_o     float64\n",
       "fun_o       float64\n",
       "like_o      float64\n",
       "prob_o      float64\n",
       "met_o       float64\n",
       "age         float64\n",
       "field        object\n",
       "race        float64\n",
       "imprace     float64\n",
       "imprelig    float64\n",
       "from         object\n",
       "goal        float64\n",
       "date        float64\n",
       "go_out      float64\n",
       "career       object\n",
       "career_c    float64\n",
       "sports      float64\n",
       "tvsports    float64\n",
       "exercise    float64\n",
       "dining      float64\n",
       "museums     float64\n",
       "art         float64\n",
       "hiking      float64\n",
       "gaming      float64\n",
       "clubbing    float64\n",
       "reading     float64\n",
       "tv          float64\n",
       "theater     float64\n",
       "movies      float64\n",
       "concerts    float64\n",
       "music       float64\n",
       "shopping    float64\n",
       "yoga        float64\n",
       "attr1_1     float64\n",
       "sinc1_1     float64\n",
       "intel1_1    float64\n",
       "fun1_1      float64\n",
       "amb1_1      float64\n",
       "attr3_1     float64\n",
       "sinc3_1     float64\n",
       "fun3_1      float64\n",
       "intel3_1    float64\n",
       "dec           int64\n",
       "attr        float64\n",
       "sinc        float64\n",
       "intel       float64\n",
       "fun         float64\n",
       "like        float64\n",
       "prob        float64\n",
       "met         float64\n",
       "dtype: object"
      ]
     },
     "execution_count": 10,
     "metadata": {},
     "output_type": "execute_result"
    }
   ],
   "source": [
    "# checking datatypes\n",
    "date2.dtypes"
   ]
  },
  {
   "cell_type": "code",
   "execution_count": 11,
   "metadata": {
    "nbpresent": {
     "id": "b6735b7b-168e-46ee-bf92-b5f7913ceee2"
    }
   },
   "outputs": [],
   "source": [
    "# creating an object-free dataframe for later use\n",
    "date3 = date2.drop(['field', 'from', 'career'], axis=1)"
   ]
  },
  {
   "cell_type": "code",
   "execution_count": 12,
   "metadata": {
    "nbpresent": {
     "id": "12445986-efaa-4a70-9194-a48215413c9d"
    }
   },
   "outputs": [
    {
     "data": {
      "text/plain": [
       "<matplotlib.axes._subplots.AxesSubplot at 0x26c6c2ddf48>"
      ]
     },
     "execution_count": 12,
     "metadata": {},
     "output_type": "execute_result"
    },
    {
     "data": {
      "image/png": "[encoded data removed]",
      "text/plain": [
       "<Figure size 1440x1080 with 2 Axes>"
      ]
     },
     "metadata": {
      "needs_background": "light"
     },
     "output_type": "display_data"
    }
   ],
   "source": [
    "# heatmap\n",
    "plt.subplots(figsize=(20,15))\n",
    "ax = plt.axes()\n",
    "ax.set_title(\"Correlation Heatmap\")\n",
    "corr = date3.corr()\n",
    "sns.heatmap(corr, \n",
    "            xticklabels=corr.columns.values,\n",
    "            yticklabels=corr.columns.values,cmap='magma')"
   ]
  },
  {
   "cell_type": "markdown",
   "metadata": {
    "nbpresent": {
     "id": "3fe91f37-a14c-4a3a-b053-cfba9fd00b56"
    }
   },
   "source": [
    "In looking at the heatmap above, there are some interesting observations.\n",
    "\n",
    "For example, men (gender = 1) seem to have a preference for attractive partners (attr1_1) while women (gender = 0) seem to have a preference for ambitious partners (amb1_1)!\n",
    "\n",
    "In other news, women like shopping and yoga and men like gaming, so at least we know this heatmap is working. Let's look into the interests some more!"
   ]
  },
  {
   "cell_type": "code",
   "execution_count": 14,
   "metadata": {
    "nbpresent": {
     "id": "ec8c5b3f-fd75-4cb6-a7b1-66465ecdf859"
    }
   },
   "outputs": [
    {
     "data": {
      "image/png": "[encoded data removed]",
      "text/plain": [
       "<Figure size 405.725x360 with 6 Axes>"
      ]
     },
     "metadata": {},
     "output_type": "display_data"
    }
   ],
   "source": [
    "# just for fun, looking at interest overlap\n",
    "sns.set(style=\"ticks\", color_codes=True)\n",
    "date_int = pd.concat([date3.iloc[:, 1],date3.iloc[:, 30:32]],axis = 1)\n",
    "\n",
    "g = sns.pairplot(date_int, hue=\"gender\",markers=[\"o\", \"D\"],palette=\"husl\",vars=date_int.columns[1:])"
   ]
  },
  {
   "cell_type": "code",
   "execution_count": 15,
   "metadata": {
    "nbpresent": {
     "id": "e57e60b9-5bdc-4441-adcb-5e665afe04a5"
    }
   },
   "outputs": [
    {
     "data": {
      "image/png": "[encoded data removed]",
      "text/plain": [
       "<Figure size 585.725x540 with 12 Axes>"
      ]
     },
     "metadata": {},
     "output_type": "display_data"
    }
   ],
   "source": [
    "# just for fun, looking at interest overlap\n",
    "sns.set(style=\"ticks\", color_codes=True)\n",
    "date_int1 = pd.concat([date3.iloc[:, 1],date3.iloc[:, 33:36]],axis = 1)\n",
    "g = sns.pairplot(date_int1, hue=\"gender\",markers=[\"o\", \"D\"],palette=\"husl\",vars=date_int1.columns[1:])"
   ]
  },
  {
   "cell_type": "code",
   "execution_count": 16,
   "metadata": {
    "nbpresent": {
     "id": "71b9cda9-5327-4073-a15c-e35ab7fc6025"
    }
   },
   "outputs": [
    {
     "data": {
      "image/png": "[encoded data removed]",
      "text/plain": [
       "<Figure size 585.725x540 with 12 Axes>"
      ]
     },
     "metadata": {},
     "output_type": "display_data"
    }
   ],
   "source": [
    "# just for fun, looking at interest overlap\n",
    "sns.set(style=\"ticks\", color_codes=True)\n",
    "date_int2 = pd.concat([date3.iloc[:, 1],date3.iloc[:, 41:44]],axis = 1)\n",
    "g = sns.pairplot(date_int2, hue=\"gender\",markers=[\"o\", \"D\"],palette=\"husl\",vars=date_int2.columns[1:])"
   ]
  },
  {
   "cell_type": "code",
   "execution_count": 17,
   "metadata": {
    "nbpresent": {
     "id": "065df1ca-41c0-4d2b-a176-8edf389a0078"
    }
   },
   "outputs": [
    {
     "data": {
      "image/png": "[encoded data removed]",
      "text/plain": [
       "<Figure size 405.725x360 with 6 Axes>"
      ]
     },
     "metadata": {},
     "output_type": "display_data"
    }
   ],
   "source": [
    "# just for fun, looking at interest overlap\n",
    "sns.set(style=\"ticks\", color_codes=True)\n",
    "date_int3 = pd.concat([date3.iloc[:, 1],date3.iloc[:, 45:47]],axis = 1)\n",
    "g = sns.pairplot(date_int3, hue=\"gender\",markers=[\"o\", \"D\"],palette=\"husl\",vars=date_int3.columns[1:])\n"
   ]
  },
  {
   "cell_type": "markdown",
   "metadata": {
    "nbpresent": {
     "id": "8ad1e494-316b-4586-a568-d2e356a7721b"
    }
   },
   "source": [
    "Just for fun, I wanted to see how interests differed by gender. The histograms above show that if you want to suggest a date that both genders are likely to enjoy, choose movies or dining!\n",
    "\n",
    "However, referring back to the heatmap none of the interests really correlated with match, so that gives me the go-ahead to remove interests from my match prediction model!\n",
    "\n",
    "It also looks like match (the variable we are interested in) is mostly correlated to the decisions of the partners, and the partner's attributes (how well they rated the partner's attractiveness, sincerity, intelligence, fun, ambition, and how much they liked them).\n",
    "\n",
    "Interestingly, match was not correlated to age or race, or even how similar the participant and partner's interests are (int_corr)! Love does not discriminate according to the data!"
   ]
  },
  {
   "cell_type": "code",
   "execution_count": 18,
   "metadata": {
    "nbpresent": {
     "id": "cbd58b63-829f-47a4-9299-9b27db91f4b4"
    }
   },
   "outputs": [],
   "source": [
    "# removing interests\n",
    "date4 = date3.drop(['sports', 'tvsports', 'exercise', 'dining', 'museums', 'art', 'hiking', \n",
    "                    'gaming', 'clubbing', 'reading', 'tv', 'theater', 'movies', 'concerts', 'music', \n",
    "                   'shopping', 'yoga'], axis=1)"
   ]
  },
  {
   "cell_type": "markdown",
   "metadata": {
    "nbpresent": {
     "id": "05ed30aa-d611-49d9-b224-b8e43be20294"
    }
   },
   "source": [
    "Going along investigating further gender differences, I wonder... how many of each gender are there and does that affect the other person's decision? That is, do women receive more positive final decisions from the other person (dec_o) than men do?"
   ]
  },
  {
   "cell_type": "code",
   "execution_count": 19,
   "metadata": {
    "nbpresent": {
     "id": "5611bab6-1a2b-4fab-b3a8-9bc198086067"
    }
   },
   "outputs": [
    {
     "data": {
      "image/png": "[encoded data removed]",
      "text/plain": [
       "<Figure size 432x216 with 2 Axes>"
      ]
     },
     "metadata": {},
     "output_type": "display_data"
    }
   ],
   "source": [
    "g = sns.FacetGrid(date4, col=\"gender\")\n",
    "g = g.map(plt.hist, \"dec_o\")\n",
    "plt.ticklabel_format(useOffset=False, style='plain')"
   ]
  },
  {
   "cell_type": "code",
   "execution_count": 20,
   "metadata": {
    "nbpresent": {
     "id": "057d2c28-bdd4-46cf-82cb-4ff5c8cf049e"
    }
   },
   "outputs": [
    {
     "data": {
      "text/plain": [
       "1.1102230246251565e-16"
      ]
     },
     "execution_count": 20,
     "metadata": {},
     "output_type": "execute_result"
    }
   ],
   "source": [
    "# chi-square test\n",
    "gender_crosstab = pd.crosstab(index=date4.gender, columns=date4.dec_o)\n",
    "gender_table = sm.stats.Table(gender_crosstab)\n",
    "gender_rslt = gender_table.test_nominal_association()\n",
    "gender_rslt.pvalue"
   ]
  },
  {
   "cell_type": "markdown",
   "metadata": {
    "nbpresent": {
     "id": "b76e8cbf-081f-4bf2-a60a-81f1cd0427a1"
    }
   },
   "source": [
    "It looks like women received about 1750 'no' and about 1600 'yes' for the decision question \"Would you like to see him or her again?\". Men received about 2050 'no' and about 1300 'yes'. In other words, men are more likely to be rejected by women than women are to be rejected by men (wahwah). This is a statistically significant difference as confirmed by the above chi-squared test p-value. Poor guys!\n",
    "\n",
    "Now, I wonder, how many interactions were unrequited love? That is, getting the count of rows where dec_o = 1 AND dec = 0 OR a dec = 1 AND dec_o = 0?"
   ]
  },
  {
   "cell_type": "code",
   "execution_count": 21,
   "metadata": {
    "nbpresent": {
     "id": "35065ecc-23d5-4ba1-97a5-87d666d8eaac"
    }
   },
   "outputs": [
    {
     "data": {
      "text/plain": [
       "26.040900397234072"
      ]
     },
     "execution_count": 21,
     "metadata": {},
     "output_type": "execute_result"
    }
   ],
   "source": [
    "# unrequited love count\n",
    "no_love_count = len(date4[(date4['dec_o']==0) & (date4['dec']==1)]) \n",
    "+ len(date4[(date4['dec_o']==1) & (date4['dec']==0)])\n",
    "perc_broken_heart = no_love_count / len(date4.index)\n",
    "perc_broken_heart*100"
   ]
  },
  {
   "cell_type": "markdown",
   "metadata": {
    "collapsed": true,
    "nbpresent": {
     "id": "7ee8f447-60bd-4f6d-8b0a-e7afb2ee4a39"
    }
   },
   "source": [
    "So it seems 26% of participants unfortunately had their heart broken. More than the percentage of people who got a second date!\n",
    "\n",
    "On an unrelated note, I wonder if the incidence of unrequited love differs by the attractiveness of the partner."
   ]
  },
  {
   "cell_type": "code",
   "execution_count": 22,
   "metadata": {
    "nbpresent": {
     "id": "d643db02-f746-4d7a-863f-5043a9ba4a29"
    }
   },
   "outputs": [],
   "source": [
    "# encoding unrequited love as a new column\n",
    "date4['url']=np.where(((date4['dec_o']==0) & (date4['dec']==1))|((date4['dec']==0) & (date4['dec_o']==1)),1,0)"
   ]
  },
  {
   "cell_type": "code",
   "execution_count": 23,
   "metadata": {
    "nbpresent": {
     "id": "f585a2ea-bc4e-46b5-92f4-b9cab5fec885"
    }
   },
   "outputs": [
    {
     "data": {
      "text/plain": [
       "Text(0.5, 0, 'Broken Heart')"
      ]
     },
     "execution_count": 23,
     "metadata": {},
     "output_type": "execute_result"
    },
    {
     "data": {
      "image/png": "[encoded data removed]",
      "text/plain": [
       "<Figure size 504x648 with 1 Axes>"
      ]
     },
     "metadata": {},
     "output_type": "display_data"
    }
   ],
   "source": [
    "# looking at url by attractiveness\n",
    "plt.figure(figsize=(7,9))\n",
    "sns.boxplot(x='url', y='attr', data=date4, palette='cool')\n",
    "plt.title('Broken Hearts by Attractiveness of Partner', fontsize=20)\n",
    "plt.xlabel('Broken Heart', fontsize=16)"
   ]
  },
  {
   "cell_type": "code",
   "execution_count": 24,
   "metadata": {
    "nbpresent": {
     "id": "1c70810d-e79f-4023-a20f-10f5bcff2e4f"
    }
   },
   "outputs": [
    {
     "data": {
      "text/plain": [
       "0.5300021303134917"
      ]
     },
     "execution_count": 24,
     "metadata": {},
     "output_type": "execute_result"
    }
   ],
   "source": [
    "# chi-square test\n",
    "bh_crosstab = pd.crosstab(index=date4.attr, columns=date4.url)\n",
    "bh_table = sm.stats.Table(bh_crosstab)\n",
    "bh_rslt = bh_table.test_nominal_association()\n",
    "bh_rslt.pvalue"
   ]
  },
  {
   "cell_type": "markdown",
   "metadata": {
    "nbpresent": {
     "id": "c771c444-7b4d-4d54-8805-b9720bd0fd5c"
    }
   },
   "source": [
    "Looks like the difference in attractiveness was not statistically significant. So the good news is, the likelihood of getting rejected is not dependent on your attractiveness!"
   ]
  },
  {
   "cell_type": "code",
   "execution_count": 25,
   "metadata": {
    "nbpresent": {
     "id": "99e7d97e-6edf-4e97-a36c-ed4d6ea11da1"
    }
   },
   "outputs": [
    {
     "data": {
      "text/plain": [
       "<matplotlib.axes._subplots.AxesSubplot at 0x26c6ebf3c88>"
      ]
     },
     "execution_count": 25,
     "metadata": {},
     "output_type": "execute_result"
    },
    {
     "data": {
      "image/png": "[encoded data removed]",
      "text/plain": [
       "<Figure size 1080x720 with 2 Axes>"
      ]
     },
     "metadata": {},
     "output_type": "display_data"
    }
   ],
   "source": [
    "date5 = pd.concat([date4['attr3_1'],date4['sinc3_1'],date4['intel3_1'],date4['fun3_1'],date4['attr_o'],\n",
    "                   date4['sinc_o'],date4['intel_o'],date4['fun_o'],date4['like'],date4['like_o'], \n",
    "                   date4['int_corr'],date4['url']],axis=1)\n",
    "plt.subplots(figsize=(15,10))\n",
    "ax = plt.axes()\n",
    "ax.set_title(\"Correlation Heatmap\")\n",
    "corr = date5.corr()\n",
    "sns.heatmap(corr, \n",
    "            xticklabels=corr.columns.values,\n",
    "            yticklabels=corr.columns.values)"
   ]
  },
  {
   "cell_type": "markdown",
   "metadata": {
    "nbpresent": {
     "id": "dbfd743c-92cb-47bd-96a6-34fa987a0c56"
    }
   },
   "source": [
    "It looks like regardless of your attractiveness, or any other trait for that matter, you are just as likely to experience heartbreak!\n",
    "\n",
    "It also looks like typically, your own opinion of how attractive you are (attr3_1) is only weakly correlated with how attractive your date finds you (attr_o)! And in fact, there is nearly no correlation between how smart or sincere you think you are versus how smart and sincere your date thinks of you! Perhaps these are tough qualities to get across in a 4 minute date!\n",
    "\n",
    "So that brings up the question, between attractiveness, sincerity, intelligence, fun, ambition, and liking, what was the most influential in the final decision (dec)? I'll run a linear regression model."
   ]
  },
  {
   "cell_type": "code",
   "execution_count": 26,
   "metadata": {
    "nbpresent": {
     "id": "37444c43-54b2-4d26-b961-dbdc09dfd90a"
    }
   },
   "outputs": [
    {
     "data": {
      "text/html": [
       "<table class=\"simpletable\">\n",
       "<caption>OLS Regression Results</caption>\n",
       "<tr>\n",
       "  <th>Dep. Variable:</th>           <td>dec</td>       <th>  R-squared (uncentered):</th>      <td>   0.602</td>\n",
       "</tr>\n",
       "<tr>\n",
       "  <th>Model:</th>                   <td>OLS</td>       <th>  Adj. R-squared (uncentered):</th> <td>   0.602</td>\n",
       "</tr>\n",
       "<tr>\n",
       "  <th>Method:</th>             <td>Least Squares</td>  <th>  F-statistic:       </th>          <td>   1712.</td>\n",
       "</tr>\n",
       "<tr>\n",
       "  <th>Date:</th>             <td>Thu, 28 May 2020</td> <th>  Prob (F-statistic):</th>           <td>  0.00</td> \n",
       "</tr>\n",
       "<tr>\n",
       "  <th>Time:</th>                 <td>21:26:02</td>     <th>  Log-Likelihood:    </th>          <td> -3686.4</td>\n",
       "</tr>\n",
       "<tr>\n",
       "  <th>No. Observations:</th>      <td>  6797</td>      <th>  AIC:               </th>          <td>   7385.</td>\n",
       "</tr>\n",
       "<tr>\n",
       "  <th>Df Residuals:</th>          <td>  6791</td>      <th>  BIC:               </th>          <td>   7426.</td>\n",
       "</tr>\n",
       "<tr>\n",
       "  <th>Df Model:</th>              <td>     6</td>      <th>                     </th>              <td> </td>   \n",
       "</tr>\n",
       "<tr>\n",
       "  <th>Covariance Type:</th>      <td>nonrobust</td>    <th>                     </th>              <td> </td>   \n",
       "</tr>\n",
       "</table>\n",
       "<table class=\"simpletable\">\n",
       "<tr>\n",
       "      <td></td>        <th>coef</th>     <th>std err</th>      <th>t</th>      <th>P>|t|</th>  <th>[0.025</th>    <th>0.975]</th>  \n",
       "</tr>\n",
       "<tr>\n",
       "  <th>attr</th>     <td>    0.0555</td> <td>    0.004</td> <td>   15.678</td> <td> 0.000</td> <td>    0.049</td> <td>    0.062</td>\n",
       "</tr>\n",
       "<tr>\n",
       "  <th>sinc</th>     <td>   -0.0351</td> <td>    0.004</td> <td>   -8.750</td> <td> 0.000</td> <td>   -0.043</td> <td>   -0.027</td>\n",
       "</tr>\n",
       "<tr>\n",
       "  <th>intel</th>    <td>   -0.0485</td> <td>    0.004</td> <td>  -11.897</td> <td> 0.000</td> <td>   -0.057</td> <td>   -0.041</td>\n",
       "</tr>\n",
       "<tr>\n",
       "  <th>fun</th>      <td>    0.0173</td> <td>    0.004</td> <td>    4.495</td> <td> 0.000</td> <td>    0.010</td> <td>    0.025</td>\n",
       "</tr>\n",
       "<tr>\n",
       "  <th>like</th>     <td>    0.0997</td> <td>    0.004</td> <td>   22.261</td> <td> 0.000</td> <td>    0.091</td> <td>    0.109</td>\n",
       "</tr>\n",
       "<tr>\n",
       "  <th>int_corr</th> <td>   -0.0366</td> <td>    0.017</td> <td>   -2.210</td> <td> 0.027</td> <td>   -0.069</td> <td>   -0.004</td>\n",
       "</tr>\n",
       "</table>\n",
       "<table class=\"simpletable\">\n",
       "<tr>\n",
       "  <th>Omnibus:</th>       <td>4603.362</td> <th>  Durbin-Watson:     </th> <td>   1.535</td>\n",
       "</tr>\n",
       "<tr>\n",
       "  <th>Prob(Omnibus):</th>  <td> 0.000</td>  <th>  Jarque-Bera (JB):  </th> <td> 394.555</td>\n",
       "</tr>\n",
       "<tr>\n",
       "  <th>Skew:</th>           <td> 0.072</td>  <th>  Prob(JB):          </th> <td>2.11e-86</td>\n",
       "</tr>\n",
       "<tr>\n",
       "  <th>Kurtosis:</th>       <td> 1.828</td>  <th>  Cond. No.          </th> <td>    50.1</td>\n",
       "</tr>\n",
       "</table><br/><br/>Warnings:<br/>[1] Standard Errors assume that the covariance matrix of the errors is correctly specified."
      ],
      "text/plain": [
       "<class 'statsmodels.iolib.summary.Summary'>\n",
       "\"\"\"\n",
       "                                 OLS Regression Results                                \n",
       "=======================================================================================\n",
       "Dep. Variable:                    dec   R-squared (uncentered):                   0.602\n",
       "Model:                            OLS   Adj. R-squared (uncentered):              0.602\n",
       "Method:                 Least Squares   F-statistic:                              1712.\n",
       "Date:                Thu, 28 May 2020   Prob (F-statistic):                        0.00\n",
       "Time:                        21:26:02   Log-Likelihood:                         -3686.4\n",
       "No. Observations:                6797   AIC:                                      7385.\n",
       "Df Residuals:                    6791   BIC:                                      7426.\n",
       "Df Model:                           6                                                  \n",
       "Covariance Type:            nonrobust                                                  \n",
       "==============================================================================\n",
       "                 coef    std err          t      P>|t|      [0.025      0.975]\n",
       "------------------------------------------------------------------------------\n",
       "attr           0.0555      0.004     15.678      0.000       0.049       0.062\n",
       "sinc          -0.0351      0.004     -8.750      0.000      -0.043      -0.027\n",
       "intel         -0.0485      0.004    -11.897      0.000      -0.057      -0.041\n",
       "fun            0.0173      0.004      4.495      0.000       0.010       0.025\n",
       "like           0.0997      0.004     22.261      0.000       0.091       0.109\n",
       "int_corr      -0.0366      0.017     -2.210      0.027      -0.069      -0.004\n",
       "==============================================================================\n",
       "Omnibus:                     4603.362   Durbin-Watson:                   1.535\n",
       "Prob(Omnibus):                  0.000   Jarque-Bera (JB):              394.555\n",
       "Skew:                           0.072   Prob(JB):                     2.11e-86\n",
       "Kurtosis:                       1.828   Cond. No.                         50.1\n",
       "==============================================================================\n",
       "\n",
       "Warnings:\n",
       "[1] Standard Errors assume that the covariance matrix of the errors is correctly specified.\n",
       "\"\"\""
      ]
     },
     "execution_count": 26,
     "metadata": {},
     "output_type": "execute_result"
    }
   ],
   "source": [
    "# OLS model with coefficients\n",
    "X_ols = date4[['attr','sinc','intel','fun','like','int_corr']]\n",
    "y_ols = date4.dec\n",
    "traits = sm.OLS(y_ols, X_ols)\n",
    "results_traits = traits.fit()\n",
    "results_traits.summary()"
   ]
  },
  {
   "cell_type": "markdown",
   "metadata": {
    "nbpresent": {
     "id": "99de3a04-7bb5-4e4b-b49f-1e963e4d1eee"
    }
   },
   "source": [
    "It turns out that being intelligent or sincere or having similar interests actually slightly hurts your chances at securing that second date! Don't panic though, this is just from 4 minutes of meeting each other! We might take this as advice to focus on breaking the ice and being more fun and likeable in the first date!\n",
    "\n",
    "Now let's run an OLS but with both respondents' ratings instead of just one, and this time on match instead of decision (dec)."
   ]
  },
  {
   "cell_type": "code",
   "execution_count": 27,
   "metadata": {
    "nbpresent": {
     "id": "b0f34c8b-ab4e-42ea-8c46-e7e6ac790514"
    }
   },
   "outputs": [
    {
     "data": {
      "text/html": [
       "<table class=\"simpletable\">\n",
       "<caption>OLS Regression Results</caption>\n",
       "<tr>\n",
       "  <th>Dep. Variable:</th>          <td>match</td>      <th>  R-squared (uncentered):</th>      <td>   0.647</td>\n",
       "</tr>\n",
       "<tr>\n",
       "  <th>Model:</th>                   <td>OLS</td>       <th>  Adj. R-squared (uncentered):</th> <td>   0.646</td>\n",
       "</tr>\n",
       "<tr>\n",
       "  <th>Method:</th>             <td>Least Squares</td>  <th>  F-statistic:       </th>          <td>   1381.</td>\n",
       "</tr>\n",
       "<tr>\n",
       "  <th>Date:</th>             <td>Thu, 28 May 2020</td> <th>  Prob (F-statistic):</th>           <td>  0.00</td> \n",
       "</tr>\n",
       "<tr>\n",
       "  <th>Time:</th>                 <td>21:26:06</td>     <th>  Log-Likelihood:    </th>          <td> -180.33</td>\n",
       "</tr>\n",
       "<tr>\n",
       "  <th>No. Observations:</th>      <td>  6797</td>      <th>  AIC:               </th>          <td>   378.7</td>\n",
       "</tr>\n",
       "<tr>\n",
       "  <th>Df Residuals:</th>          <td>  6788</td>      <th>  BIC:               </th>          <td>   440.1</td>\n",
       "</tr>\n",
       "<tr>\n",
       "  <th>Df Model:</th>              <td>     9</td>      <th>                     </th>              <td> </td>   \n",
       "</tr>\n",
       "<tr>\n",
       "  <th>Covariance Type:</th>      <td>nonrobust</td>    <th>                     </th>              <td> </td>   \n",
       "</tr>\n",
       "</table>\n",
       "<table class=\"simpletable\">\n",
       "<tr>\n",
       "      <td></td>        <th>coef</th>     <th>std err</th>      <th>t</th>      <th>P>|t|</th>  <th>[0.025</th>    <th>0.975]</th>  \n",
       "</tr>\n",
       "<tr>\n",
       "  <th>dec</th>      <td>    0.4463</td> <td>    0.007</td> <td>   62.145</td> <td> 0.000</td> <td>    0.432</td> <td>    0.460</td>\n",
       "</tr>\n",
       "<tr>\n",
       "  <th>dec_o</th>    <td>    0.4463</td> <td>    0.007</td> <td>   62.417</td> <td> 0.000</td> <td>    0.432</td> <td>    0.460</td>\n",
       "</tr>\n",
       "<tr>\n",
       "  <th>attr</th>     <td>   -0.0013</td> <td>    0.002</td> <td>   -0.584</td> <td> 0.559</td> <td>   -0.005</td> <td>    0.003</td>\n",
       "</tr>\n",
       "<tr>\n",
       "  <th>attr_o</th>   <td>   -0.0009</td> <td>    0.002</td> <td>   -0.406</td> <td> 0.685</td> <td>   -0.005</td> <td>    0.003</td>\n",
       "</tr>\n",
       "<tr>\n",
       "  <th>fun</th>      <td>    0.0006</td> <td>    0.002</td> <td>    0.249</td> <td> 0.803</td> <td>   -0.004</td> <td>    0.005</td>\n",
       "</tr>\n",
       "<tr>\n",
       "  <th>fun_o</th>    <td>    0.0012</td> <td>    0.002</td> <td>    0.555</td> <td> 0.579</td> <td>   -0.003</td> <td>    0.006</td>\n",
       "</tr>\n",
       "<tr>\n",
       "  <th>like</th>     <td>   -0.0161</td> <td>    0.003</td> <td>   -6.132</td> <td> 0.000</td> <td>   -0.021</td> <td>   -0.011</td>\n",
       "</tr>\n",
       "<tr>\n",
       "  <th>like_o</th>   <td>   -0.0170</td> <td>    0.003</td> <td>   -6.523</td> <td> 0.000</td> <td>   -0.022</td> <td>   -0.012</td>\n",
       "</tr>\n",
       "<tr>\n",
       "  <th>int_corr</th> <td>    0.0036</td> <td>    0.010</td> <td>    0.364</td> <td> 0.716</td> <td>   -0.016</td> <td>    0.023</td>\n",
       "</tr>\n",
       "</table>\n",
       "<table class=\"simpletable\">\n",
       "<tr>\n",
       "  <th>Omnibus:</th>       <td>33151.792</td> <th>  Durbin-Watson:     </th> <td>   1.869</td> \n",
       "</tr>\n",
       "<tr>\n",
       "  <th>Prob(Omnibus):</th>  <td> 0.000</td>   <th>  Jarque-Bera (JB):  </th> <td> 814.640</td> \n",
       "</tr>\n",
       "<tr>\n",
       "  <th>Skew:</th>           <td> 0.256</td>   <th>  Prob(JB):          </th> <td>1.27e-177</td>\n",
       "</tr>\n",
       "<tr>\n",
       "  <th>Kurtosis:</th>       <td> 1.383</td>   <th>  Cond. No.          </th> <td>    51.3</td> \n",
       "</tr>\n",
       "</table><br/><br/>Warnings:<br/>[1] Standard Errors assume that the covariance matrix of the errors is correctly specified."
      ],
      "text/plain": [
       "<class 'statsmodels.iolib.summary.Summary'>\n",
       "\"\"\"\n",
       "                                 OLS Regression Results                                \n",
       "=======================================================================================\n",
       "Dep. Variable:                  match   R-squared (uncentered):                   0.647\n",
       "Model:                            OLS   Adj. R-squared (uncentered):              0.646\n",
       "Method:                 Least Squares   F-statistic:                              1381.\n",
       "Date:                Thu, 28 May 2020   Prob (F-statistic):                        0.00\n",
       "Time:                        21:26:06   Log-Likelihood:                         -180.33\n",
       "No. Observations:                6797   AIC:                                      378.7\n",
       "Df Residuals:                    6788   BIC:                                      440.1\n",
       "Df Model:                           9                                                  \n",
       "Covariance Type:            nonrobust                                                  \n",
       "==============================================================================\n",
       "                 coef    std err          t      P>|t|      [0.025      0.975]\n",
       "------------------------------------------------------------------------------\n",
       "dec            0.4463      0.007     62.145      0.000       0.432       0.460\n",
       "dec_o          0.4463      0.007     62.417      0.000       0.432       0.460\n",
       "attr          -0.0013      0.002     -0.584      0.559      -0.005       0.003\n",
       "attr_o        -0.0009      0.002     -0.406      0.685      -0.005       0.003\n",
       "fun            0.0006      0.002      0.249      0.803      -0.004       0.005\n",
       "fun_o          0.0012      0.002      0.555      0.579      -0.003       0.006\n",
       "like          -0.0161      0.003     -6.132      0.000      -0.021      -0.011\n",
       "like_o        -0.0170      0.003     -6.523      0.000      -0.022      -0.012\n",
       "int_corr       0.0036      0.010      0.364      0.716      -0.016       0.023\n",
       "==============================================================================\n",
       "Omnibus:                    33151.792   Durbin-Watson:                   1.869\n",
       "Prob(Omnibus):                  0.000   Jarque-Bera (JB):              814.640\n",
       "Skew:                           0.256   Prob(JB):                    1.27e-177\n",
       "Kurtosis:                       1.383   Cond. No.                         51.3\n",
       "==============================================================================\n",
       "\n",
       "Warnings:\n",
       "[1] Standard Errors assume that the covariance matrix of the errors is correctly specified.\n",
       "\"\"\""
      ]
     },
     "execution_count": 27,
     "metadata": {},
     "output_type": "execute_result"
    }
   ],
   "source": [
    "# OLS model with coefficients\n",
    "X_ols = date4[['dec','dec_o','attr','attr_o','fun','fun_o','like','like_o','int_corr']]\n",
    "y_ols = date4.match\n",
    "traits = sm.OLS(y_ols, X_ols)\n",
    "results_traits = traits.fit()\n",
    "results_traits.summary()"
   ]
  },
  {
   "cell_type": "markdown",
   "metadata": {
    "nbpresent": {
     "id": "fa882786-b652-4b5d-a3d3-85d326be1aaf"
    }
   },
   "source": [
    "From the coefficients, it looks like all that really matters is the decision of both participants, and perhaps whether or not they liked one another."
   ]
  },
  {
   "cell_type": "markdown",
   "metadata": {
    "nbpresent": {
     "id": "1a39795e-a46e-452a-8817-68325ae102b2"
    }
   },
   "source": [
    "###Modeling - Classification "
   ]
  },
  {
   "cell_type": "code",
   "execution_count": 28,
   "metadata": {
    "nbpresent": {
     "id": "34867a8a-c605-4a0e-ac93-b2d06ec61452"
    }
   },
   "outputs": [],
   "source": [
    "# preparing the data\n",
    "X=date4[['like','dec']]\n",
    "y=date4['match']\n",
    "X_train, X_test, y_train, y_test = train_test_split(X, y, test_size=0.2, random_state=0, stratify=y)"
   ]
  },
  {
   "cell_type": "code",
   "execution_count": 29,
   "metadata": {
    "nbpresent": {
     "id": "e62cd530-f394-4649-9d8b-564bcdf21c55"
    }
   },
   "outputs": [
    {
     "name": "stdout",
     "output_type": "stream",
     "text": [
      "Training Accuracy: 0.8282140886518301\n",
      "Validation Accuracy: 0.8279411764705882\n"
     ]
    }
   ],
   "source": [
    "# logistic regression classification model\n",
    "model = LogisticRegression(C=1, random_state=0)\n",
    "lrc = model.fit(X_train, y_train)\n",
    "predict_train_lrc = lrc.predict(X_train)\n",
    "predict_test_lrc = lrc.predict(X_test)\n",
    "print('Training Accuracy:', metrics.accuracy_score(y_train, predict_train_lrc))\n",
    "print('Validation Accuracy:', metrics.accuracy_score(y_test, predict_test_lrc))"
   ]
  },
  {
   "cell_type": "markdown",
   "metadata": {
    "nbpresent": {
     "id": "70ff9e11-2a1c-4414-a027-47459e26dec3"
    }
   },
   "source": [
    "Without knowing what the partner's decision is (dec_o), it turns out that given how much the respondent likes the partner and what the respondent's decision is, we have about an 82.5% accuracy in predicting a match on both the training and the validation using logistic regression. This makes sense given that we know only 26% of people were heartbroken -- if you like someone, odds are they will like you back!\n",
    "\n",
    "Let's try some other models to see if we can get closer to predicting a match."
   ]
  },
  {
   "cell_type": "code",
   "execution_count": 30,
   "metadata": {
    "nbpresent": {
     "id": "b3084fac-1fba-4025-aef5-75c02ab2a243"
    }
   },
   "outputs": [
    {
     "name": "stdout",
     "output_type": "stream",
     "text": [
      "Training Accuracy: 0.8289497884862976\n",
      "Validation Accuracy: 0.8279411764705882\n"
     ]
    }
   ],
   "source": [
    "# random forest model\n",
    "model = RandomForestClassifier()\n",
    "rf_model = model.fit(X_train, y_train)\n",
    "predict_train_rf = rf_model.predict(X_train)\n",
    "predict_test_rf = rf_model.predict(X_test)\n",
    "print('Training Accuracy:', metrics.accuracy_score(y_train, predict_train_rf))\n",
    "print('Validation Accuracy:', metrics.accuracy_score(y_test, predict_test_rf))"
   ]
  },
  {
   "cell_type": "code",
   "execution_count": 31,
   "metadata": {
    "nbpresent": {
     "id": "1795e651-d7d3-4d58-9828-f2322ab27be1"
    }
   },
   "outputs": [
    {
     "name": "stdout",
     "output_type": "stream",
     "text": [
      "Training Accuracy: 0.8289497884862976\n",
      "Validation Accuracy: 0.8272058823529411\n"
     ]
    }
   ],
   "source": [
    "# xgboost model\n",
    "model = GradientBoostingClassifier()\n",
    "xgb_model = model.fit(X_train, y_train)\n",
    "predict_train_xgb = xgb_model.predict(X_train)\n",
    "predict_test_xgb = xgb_model.predict(X_test)\n",
    "print('Training Accuracy:', metrics.accuracy_score(y_train, predict_train_xgb))\n",
    "print('Validation Accuracy:', metrics.accuracy_score(y_test, predict_test_xgb))"
   ]
  },
  {
   "cell_type": "markdown",
   "metadata": {
    "nbpresent": {
     "id": "801276b7-03fa-4746-8176-11e8676c754e"
    }
   },
   "source": [
    "XGBoost was ever so slightly less accurate than Random Forest in the validation set. Looks like Random Forest is my champion model.\n",
    "\n",
    "Conclusion \n",
    "Although this was slightly disappointing, it looks like there still is no real answers to the secret of love. It's not interests or hobbies, it's not attractiveness or intelligence or other traits. Really it's just how much someone likes you. Who would have thought?\n",
    "\n",
    "On the other hand, we did learn a thing or two. To summarize:\n",
    "\n",
    "Take your date out to the cliche dinner and a movie because both genders are likely to enjoy it\n",
    "Dating is tougher for men (perhaps women can be more selective?)\n",
    "More participants experienced unrequited love than those that found love -- so don't feel too bad\n",
    "People get their heartbroken regardless of their personal traits like attractiveness, so if you strike out, it's not you that is the problem\n",
    "Your impression of yourself is often wrong\n",
    "There is no one trait that makes you likeable\n",
    "Being likeable is important for securing that second date!"
   ]
  }
 ],
 "metadata": {
  "kernelspec": {
   "display_name": "Python 3",
   "language": "python",
   "name": "python3"
  },
  "language_info": {
   "codemirror_mode": {
    "name": "ipython",
    "version": 3
   },
   "file_extension": ".py",
   "mimetype": "text/x-python",
   "name": "python",
   "nbconvert_exporter": "python",
   "pygments_lexer": "ipython3",
   "version": "3.7.6"
  },
  "nbpresent": {
   "slides": {
    "00524b4b-16bf-4183-afa2-0d8c69745098": {
     "id": "00524b4b-16bf-4183-afa2-0d8c69745098",
     "prev": "126957af-1f35-432e-9c5c-ded5e6a4e8f6",
     "regions": {
      "7fc051dd-9d05-4a29-ae76-1a7baba95487": {
       "attrs": {
        "height": 0.8,
        "width": 0.8,
        "x": 0.1,
        "y": 0.1
       },
       "content": {
        "cell": "801276b7-03fa-4746-8176-11e8676c754e",
        "part": "whole"
       },
       "id": "7fc051dd-9d05-4a29-ae76-1a7baba95487"
      }
     }
    },
    "008e795a-7fa2-42ca-b4e1-23ba4c938895": {
     "id": "008e795a-7fa2-42ca-b4e1-23ba4c938895",
     "prev": "dde6c14d-a168-4676-b05b-16da7910029e",
     "regions": {
      "aa78994e-8636-4603-8b9d-26ea405249c9": {
       "attrs": {
        "height": 0.8,
        "width": 0.8,
        "x": 0.1,
        "y": 0.1
       },
       "content": {
        "cell": "37444c43-54b2-4d26-b961-dbdc09dfd90a",
        "part": "whole"
       },
       "id": "aa78994e-8636-4603-8b9d-26ea405249c9"
      }
     }
    },
    "0318a873-dbab-4b4d-85b7-620c9a584dd1": {
     "id": "0318a873-dbab-4b4d-85b7-620c9a584dd1",
     "prev": "5f50cbb4-74af-412d-b411-c50908418409",
     "regions": {
      "f0c3b2bf-b318-4bd3-87db-6a3cad923db2": {
       "attrs": {
        "height": 0.8,
        "width": 0.8,
        "x": 0.1,
        "y": 0.1
       },
       "content": {
        "cell": "e62cd530-f394-4649-9d8b-564bcdf21c55",
        "part": "whole"
       },
       "id": "f0c3b2bf-b318-4bd3-87db-6a3cad923db2"
      }
     }
    },
    "082ff595-e869-48d9-b43f-8fd384cb2229": {
     "id": "082ff595-e869-48d9-b43f-8fd384cb2229",
     "prev": "daa6bb9c-ea42-4b01-91d0-0860b92495c0",
     "regions": {
      "d5a51e61-248e-4141-9bfd-26c51ec01fe2": {
       "attrs": {
        "height": 0.8,
        "width": 0.8,
        "x": 0.1,
        "y": 0.1
       },
       "content": {
        "cell": "b76e8cbf-081f-4bf2-a60a-81f1cd0427a1",
        "part": "whole"
       },
       "id": "d5a51e61-248e-4141-9bfd-26c51ec01fe2"
      }
     }
    },
    "126957af-1f35-432e-9c5c-ded5e6a4e8f6": {
     "id": "126957af-1f35-432e-9c5c-ded5e6a4e8f6",
     "prev": "89777ecc-9890-4c7b-be56-08604d96f65e",
     "regions": {
      "38ec6ff7-bdb8-43e8-b4ea-625638649e7d": {
       "attrs": {
        "height": 0.8,
        "width": 0.8,
        "x": 0.1,
        "y": 0.1
       },
       "content": {
        "cell": "1795e651-d7d3-4d58-9828-f2322ab27be1",
        "part": "whole"
       },
       "id": "38ec6ff7-bdb8-43e8-b4ea-625638649e7d"
      }
     }
    },
    "1392a2d2-399a-483d-9fc3-47a02b686a27": {
     "id": "1392a2d2-399a-483d-9fc3-47a02b686a27",
     "prev": "61c5dc8e-92b8-4e53-b425-a48738f63179",
     "regions": {
      "b7a9b52b-d5d4-484b-889e-bdab04a24e2d": {
       "attrs": {
        "height": 0.8,
        "width": 0.8,
        "x": 0.1,
        "y": 0.1
       },
       "content": {
        "cell": "197b732f-dd23-4f26-9e49-9c2c9f8c4b81",
        "part": "whole"
       },
       "id": "b7a9b52b-d5d4-484b-889e-bdab04a24e2d"
      }
     }
    },
    "13c0282f-4cf0-4812-987c-c1c34be8f4a7": {
     "id": "13c0282f-4cf0-4812-987c-c1c34be8f4a7",
     "prev": "30b9f064-2ee7-4bc8-a83c-89b1868d346a",
     "regions": {
      "886b5ee6-ebc4-4dbc-b4d7-60c3a206c28b": {
       "attrs": {
        "height": 0.8,
        "width": 0.8,
        "x": 0.1,
        "y": 0.1
       },
       "content": {
        "cell": "0e2ff314-6195-49e8-aa10-95d4fd570322",
        "part": "whole"
       },
       "id": "886b5ee6-ebc4-4dbc-b4d7-60c3a206c28b"
      }
     }
    },
    "16a35a25-1dcc-4715-8872-ecdaef7a7259": {
     "id": "16a35a25-1dcc-4715-8872-ecdaef7a7259",
     "prev": "c6f787eb-e073-45ee-9b95-f069ba54695d",
     "regions": {
      "ef00c808-5389-440c-9887-f5b2ec853fbc": {
       "attrs": {
        "height": 0.8,
        "width": 0.8,
        "x": 0.1,
        "y": 0.1
       },
       "content": {
        "cell": "68750a54-65fa-4287-aa59-938ef80ff557",
        "part": "whole"
       },
       "id": "ef00c808-5389-440c-9887-f5b2ec853fbc"
      }
     }
    },
    "1afc97bb-98ee-4155-8c7c-31873fe0445c": {
     "id": "1afc97bb-98ee-4155-8c7c-31873fe0445c",
     "prev": "a2b888d3-823a-4e10-bd4b-c99812b2cd0a",
     "regions": {
      "fd613b4b-8b85-4040-94a6-f0f82d90c7e5": {
       "attrs": {
        "height": 0.8,
        "width": 0.8,
        "x": 0.1,
        "y": 0.1
       },
       "content": {
        "cell": "1a39795e-a46e-452a-8817-68325ae102b2",
        "part": "whole"
       },
       "id": "fd613b4b-8b85-4040-94a6-f0f82d90c7e5"
      }
     }
    },
    "30b9f064-2ee7-4bc8-a83c-89b1868d346a": {
     "id": "30b9f064-2ee7-4bc8-a83c-89b1868d346a",
     "prev": "4348cbc1-f1cb-4b22-9153-70af20fe77bd",
     "regions": {
      "ee076ec0-a6a8-417f-ab52-9734d011a41d": {
       "attrs": {
        "height": 0.8,
        "width": 0.8,
        "x": 0.1,
        "y": 0.1
       },
       "content": {
        "cell": "4d696f40-3834-4e95-a4cf-c0da9c60d17d",
        "part": "whole"
       },
       "id": "ee076ec0-a6a8-417f-ab52-9734d011a41d"
      }
     }
    },
    "392c9276-d8f9-4d9b-9f7e-58aaf068daef": {
     "id": "392c9276-d8f9-4d9b-9f7e-58aaf068daef",
     "prev": "00524b4b-16bf-4183-afa2-0d8c69745098",
     "regions": {
      "9b19602f-d4c7-4a28-8722-d9faffe81738": {
       "attrs": {
        "height": 0.8,
        "width": 0.8,
        "x": 0.1,
        "y": 0.1
       },
       "content": {
        "cell": "68ea66d4-d64c-4579-86cd-f7389d657019",
        "part": "whole"
       },
       "id": "9b19602f-d4c7-4a28-8722-d9faffe81738"
      }
     }
    },
    "395b369a-3c75-4bf4-962c-6a036778248f": {
     "id": "395b369a-3c75-4bf4-962c-6a036778248f",
     "prev": "3ea73f04-09ca-44db-af88-1a9667e73df7",
     "regions": {
      "71faa02a-5842-4de6-9b31-e8fc4a6429df": {
       "attrs": {
        "height": 0.8,
        "width": 0.8,
        "x": 0.1,
        "y": 0.1
       },
       "content": {
        "cell": "8ad1e494-316b-4586-a568-d2e356a7721b",
        "part": "whole"
       },
       "id": "71faa02a-5842-4de6-9b31-e8fc4a6429df"
      }
     }
    },
    "3c8643f5-0665-4a5a-a016-f5f0b468d499": {
     "id": "3c8643f5-0665-4a5a-a016-f5f0b468d499",
     "prev": "8f3cdd09-9d66-4c62-a423-7c316f787fd9",
     "regions": {
      "c0e2cb4e-a9bd-45c8-ae42-eb9e5c0add23": {
       "attrs": {
        "height": 0.8,
        "width": 0.8,
        "x": 0.1,
        "y": 0.1
       },
       "content": {
        "cell": "c771c444-7b4d-4d54-8805-b9720bd0fd5c",
        "part": "whole"
       },
       "id": "c0e2cb4e-a9bd-45c8-ae42-eb9e5c0add23"
      }
     }
    },
    "3ea73f04-09ca-44db-af88-1a9667e73df7": {
     "id": "3ea73f04-09ca-44db-af88-1a9667e73df7",
     "prev": "b0b1dc01-6681-4517-8d01-fa8133214610",
     "regions": {
      "c4c15816-733d-4618-a313-0d2672cc4be7": {
       "attrs": {
        "height": 0.8,
        "width": 0.8,
        "x": 0.1,
        "y": 0.1
       },
       "content": {
        "cell": "065df1ca-41c0-4d2b-a176-8edf389a0078",
        "part": "whole"
       },
       "id": "c4c15816-733d-4618-a313-0d2672cc4be7"
      }
     }
    },
    "406d319e-72fe-4e2a-ba0e-1c560e77323d": {
     "id": "406d319e-72fe-4e2a-ba0e-1c560e77323d",
     "prev": "628e7b48-a35f-4ae4-acaa-3f4aeb961d91",
     "regions": {
      "71236adb-d74b-410a-8a22-edfbd562f094": {
       "attrs": {
        "height": 0.8,
        "width": 0.8,
        "x": 0.1,
        "y": 0.1
       },
       "content": {
        "cell": "198729aa-c65a-49c1-ba74-e84181a66767",
        "part": "whole"
       },
       "id": "71236adb-d74b-410a-8a22-edfbd562f094"
      }
     }
    },
    "4348cbc1-f1cb-4b22-9153-70af20fe77bd": {
     "id": "4348cbc1-f1cb-4b22-9153-70af20fe77bd",
     "prev": "4d52e551-5f8a-406b-9143-4a2a97909a52",
     "regions": {
      "0da4d46c-2947-48ad-9f50-ba77774e4e56": {
       "attrs": {
        "height": 0.8,
        "width": 0.8,
        "x": 0.1,
        "y": 0.1
       },
       "content": {
        "cell": "bf60024b-689e-4809-86ef-3a6804234956",
        "part": "whole"
       },
       "id": "0da4d46c-2947-48ad-9f50-ba77774e4e56"
      }
     }
    },
    "4a04f1be-dadd-4cd0-bb6a-92c6aa886a0d": {
     "id": "4a04f1be-dadd-4cd0-bb6a-92c6aa886a0d",
     "prev": "0318a873-dbab-4b4d-85b7-620c9a584dd1",
     "regions": {
      "ae357c2f-0414-47af-93c1-93326631e881": {
       "attrs": {
        "height": 0.8,
        "width": 0.8,
        "x": 0.1,
        "y": 0.1
       },
       "content": {
        "cell": "70ff9e11-2a1c-4414-a027-47459e26dec3",
        "part": "whole"
       },
       "id": "ae357c2f-0414-47af-93c1-93326631e881"
      }
     }
    },
    "4d52e551-5f8a-406b-9143-4a2a97909a52": {
     "id": "4d52e551-5f8a-406b-9143-4a2a97909a52",
     "prev": "16a35a25-1dcc-4715-8872-ecdaef7a7259",
     "regions": {
      "2a95e4f1-c96f-495e-b903-0ff33ebf3d08": {
       "attrs": {
        "height": 0.8,
        "width": 0.8,
        "x": 0.1,
        "y": 0.1
       },
       "content": {
        "cell": "afcd2b9e-8ba0-49b0-817a-0cf516316d0f",
        "part": "whole"
       },
       "id": "2a95e4f1-c96f-495e-b903-0ff33ebf3d08"
      }
     }
    },
    "4e10244b-06b6-4dc1-87a5-e5d0ac517851": {
     "id": "4e10244b-06b6-4dc1-87a5-e5d0ac517851",
     "prev": "7fc73cd6-adb0-4508-91af-edb88c9e72c0",
     "regions": {
      "4e1e00bc-2bf3-4561-81c4-e99550de58ad": {
       "attrs": {
        "height": 0.8,
        "width": 0.8,
        "x": 0.1,
        "y": 0.1
       },
       "content": {
        "cell": "f585a2ea-bc4e-46b5-92f4-b9cab5fec885",
        "part": "whole"
       },
       "id": "4e1e00bc-2bf3-4561-81c4-e99550de58ad"
      }
     }
    },
    "4f596115-d714-460e-a21c-9e4aff2d454c": {
     "id": "4f596115-d714-460e-a21c-9e4aff2d454c",
     "prev": "395b369a-3c75-4bf4-962c-6a036778248f",
     "regions": {
      "d7087975-ff9c-4910-91cf-6c85589384b3": {
       "attrs": {
        "height": 0.8,
        "width": 0.8,
        "x": 0.1,
        "y": 0.1
       },
       "content": {
        "cell": "cbd58b63-829f-47a4-9299-9b27db91f4b4",
        "part": "whole"
       },
       "id": "d7087975-ff9c-4910-91cf-6c85589384b3"
      }
     }
    },
    "4fbb5f5f-a9ca-4768-9e05-33c73cc1d5d5": {
     "id": "4fbb5f5f-a9ca-4768-9e05-33c73cc1d5d5",
     "prev": "c0ada271-6d7f-4692-8a48-7270b2f21b49",
     "regions": {
      "9f0a603c-3e66-4a6f-87c4-a0218637bdb1": {
       "attrs": {
        "height": 0.8,
        "width": 0.8,
        "x": 0.1,
        "y": 0.1
       },
       "content": {
        "cell": "e57e60b9-5bdc-4441-adcb-5e665afe04a5",
        "part": "whole"
       },
       "id": "9f0a603c-3e66-4a6f-87c4-a0218637bdb1"
      }
     }
    },
    "5f50cbb4-74af-412d-b411-c50908418409": {
     "id": "5f50cbb4-74af-412d-b411-c50908418409",
     "prev": "1afc97bb-98ee-4155-8c7c-31873fe0445c",
     "regions": {
      "4887d860-5ae9-4bd7-ab23-49ce66d23457": {
       "attrs": {
        "height": 0.8,
        "width": 0.8,
        "x": 0.1,
        "y": 0.1
       },
       "content": {
        "cell": "34867a8a-c605-4a0e-ac93-b2d06ec61452",
        "part": "whole"
       },
       "id": "4887d860-5ae9-4bd7-ab23-49ce66d23457"
      }
     }
    },
    "61c5dc8e-92b8-4e53-b425-a48738f63179": {
     "id": "61c5dc8e-92b8-4e53-b425-a48738f63179",
     "prev": "6fe13419-2f9d-4990-9937-18a7968e650a",
     "regions": {
      "088ce293-b1b4-447f-b217-7d06a7bd1615": {
       "attrs": {
        "height": 0.8,
        "width": 0.8,
        "x": 0.1,
        "y": 0.1
       },
       "content": {
        "cell": "3fe91f37-a14c-4a3a-b053-cfba9fd00b56",
        "part": "whole"
       },
       "id": "088ce293-b1b4-447f-b217-7d06a7bd1615"
      }
     }
    },
    "628e7b48-a35f-4ae4-acaa-3f4aeb961d91": {
     "id": "628e7b48-a35f-4ae4-acaa-3f4aeb961d91",
     "prev": "c427a747-0016-45e7-9528-a86f54dbb836",
     "regions": {
      "c5403a40-f932-46ac-ba58-e0a1fc41314f": {
       "attrs": {
        "height": 0.8,
        "width": 0.8,
        "x": 0.1,
        "y": 0.1
       },
       "content": {
        "cell": "0a944b1a-fcfc-433b-815c-6db82fb42ff6",
        "part": "whole"
       },
       "id": "c5403a40-f932-46ac-ba58-e0a1fc41314f"
      }
     }
    },
    "68505c22-5ea0-4418-98fc-263464c85eb9": {
     "id": "68505c22-5ea0-4418-98fc-263464c85eb9",
     "prev": "13c0282f-4cf0-4812-987c-c1c34be8f4a7",
     "regions": {
      "dc7e1e10-24c9-4cf9-be46-9b7f72d1dd86": {
       "attrs": {
        "height": 0.8,
        "width": 0.8,
        "x": 0.1,
        "y": 0.1
       },
       "content": {
        "cell": "b6735b7b-168e-46ee-bf92-b5f7913ceee2",
        "part": "whole"
       },
       "id": "dc7e1e10-24c9-4cf9-be46-9b7f72d1dd86"
      }
     }
    },
    "6fe13419-2f9d-4990-9937-18a7968e650a": {
     "id": "6fe13419-2f9d-4990-9937-18a7968e650a",
     "prev": "68505c22-5ea0-4418-98fc-263464c85eb9",
     "regions": {
      "57ffd7cc-7a79-49ee-9a04-d584d46e7c29": {
       "attrs": {
        "height": 0.8,
        "width": 0.8,
        "x": 0.1,
        "y": 0.1
       },
       "content": {
        "cell": "12445986-efaa-4a70-9194-a48215413c9d",
        "part": "whole"
       },
       "id": "57ffd7cc-7a79-49ee-9a04-d584d46e7c29"
      }
     }
    },
    "725202a5-3d22-41e7-86d0-b0438b8bcf5c": {
     "id": "725202a5-3d22-41e7-86d0-b0438b8bcf5c",
     "prev": "9cdd545f-be8d-43a4-b731-ff61096e26e0",
     "regions": {
      "f3b515b5-f06e-4fd2-8be5-368fcd7bd18f": {
       "attrs": {
        "height": 0.8,
        "width": 0.8,
        "x": 0.1,
        "y": 0.1
       },
       "content": {
        "cell": "6862115f-08f8-42cd-876a-61012c8280ae",
        "part": "whole"
       },
       "id": "f3b515b5-f06e-4fd2-8be5-368fcd7bd18f"
      }
     }
    },
    "72a45542-3e51-4ef6-9c6a-bf1f9986289f": {
     "id": "72a45542-3e51-4ef6-9c6a-bf1f9986289f",
     "prev": "008e795a-7fa2-42ca-b4e1-23ba4c938895",
     "regions": {
      "ba9d623d-68fd-4d94-84c1-e372afb0986a": {
       "attrs": {
        "height": 0.8,
        "width": 0.8,
        "x": 0.1,
        "y": 0.1
       },
       "content": {
        "cell": "99de3a04-7bb5-4e4b-b49f-1e963e4d1eee",
        "part": "whole"
       },
       "id": "ba9d623d-68fd-4d94-84c1-e372afb0986a"
      }
     }
    },
    "7fc73cd6-adb0-4508-91af-edb88c9e72c0": {
     "id": "7fc73cd6-adb0-4508-91af-edb88c9e72c0",
     "prev": "edef905e-6445-4e4f-bed5-9caabe87b581",
     "regions": {
      "c9b4d2c7-3b7f-4c0e-888e-461c2e84f014": {
       "attrs": {
        "height": 0.8,
        "width": 0.8,
        "x": 0.1,
        "y": 0.1
       },
       "content": {
        "cell": "d643db02-f746-4d7a-863f-5043a9ba4a29",
        "part": "whole"
       },
       "id": "c9b4d2c7-3b7f-4c0e-888e-461c2e84f014"
      }
     }
    },
    "89777ecc-9890-4c7b-be56-08604d96f65e": {
     "id": "89777ecc-9890-4c7b-be56-08604d96f65e",
     "prev": "4a04f1be-dadd-4cd0-bb6a-92c6aa886a0d",
     "regions": {
      "57aba16f-1bb1-42d6-98a5-a93adf5ca67c": {
       "attrs": {
        "height": 0.8,
        "width": 0.8,
        "x": 0.1,
        "y": 0.1
       },
       "content": {
        "cell": "b3084fac-1fba-4025-aef5-75c02ab2a243",
        "part": "whole"
       },
       "id": "57aba16f-1bb1-42d6-98a5-a93adf5ca67c"
      }
     }
    },
    "899837f9-272a-4ecc-a325-40dcb1a754dc": {
     "id": "899837f9-272a-4ecc-a325-40dcb1a754dc",
     "prev": null,
     "regions": {
      "f3e70fbd-4c2c-4a4c-83ea-1d6e23496ce4": {
       "attrs": {
        "height": 0.8,
        "width": 0.8,
        "x": 0.1,
        "y": 0.1
       },
       "content": {
        "cell": "c9806ca0-982a-4988-98e9-352baab78789",
        "part": "whole"
       },
       "id": "f3e70fbd-4c2c-4a4c-83ea-1d6e23496ce4"
      }
     }
    },
    "8f3cdd09-9d66-4c62-a423-7c316f787fd9": {
     "id": "8f3cdd09-9d66-4c62-a423-7c316f787fd9",
     "prev": "4e10244b-06b6-4dc1-87a5-e5d0ac517851",
     "regions": {
      "61945193-7499-41fa-915c-a05138983ed9": {
       "attrs": {
        "height": 0.8,
        "width": 0.8,
        "x": 0.1,
        "y": 0.1
       },
       "content": {
        "cell": "1c70810d-e79f-4023-a20f-10f5bcff2e4f",
        "part": "whole"
       },
       "id": "61945193-7499-41fa-915c-a05138983ed9"
      }
     }
    },
    "9cdd545f-be8d-43a4-b731-ff61096e26e0": {
     "id": "9cdd545f-be8d-43a4-b731-ff61096e26e0",
     "prev": "c683b639-41d0-48bb-9613-47695e286115",
     "regions": {
      "43e08a35-e416-4bf1-8208-81471bc1be10": {
       "attrs": {
        "height": 0.8,
        "width": 0.8,
        "x": 0.1,
        "y": 0.1
       },
       "content": {
        "cell": "fb0d01c4-4ee3-498c-a63a-e08a82aac7a6",
        "part": "whole"
       },
       "id": "43e08a35-e416-4bf1-8208-81471bc1be10"
      }
     }
    },
    "9f053ebf-ce23-4aa9-ad56-2196e5626084": {
     "id": "9f053ebf-ce23-4aa9-ad56-2196e5626084",
     "prev": "e72c39cc-ac9e-47cd-a9c7-58fe8f924ad2",
     "regions": {
      "1ffafc01-8560-4be1-8a5f-cac934a4001a": {
       "attrs": {
        "height": 0.8,
        "width": 0.8,
        "x": 0.1,
        "y": 0.1
       },
       "content": {
        "cell": "5611bab6-1a2b-4fab-b3a8-9bc198086067",
        "part": "whole"
       },
       "id": "1ffafc01-8560-4be1-8a5f-cac934a4001a"
      }
     }
    },
    "a2b888d3-823a-4e10-bd4b-c99812b2cd0a": {
     "id": "a2b888d3-823a-4e10-bd4b-c99812b2cd0a",
     "prev": "dce74465-24e3-42ec-87d7-81a4efdfdd81",
     "regions": {
      "e2cee55e-b8e6-492e-8ed9-c3de6b67f079": {
       "attrs": {
        "height": 0.8,
        "width": 0.8,
        "x": 0.1,
        "y": 0.1
       },
       "content": {
        "cell": "fa882786-b652-4b5d-a3d3-85d326be1aaf",
        "part": "whole"
       },
       "id": "e2cee55e-b8e6-492e-8ed9-c3de6b67f079"
      }
     }
    },
    "a3d3d0f3-9f5d-4937-b5e8-e6886c8362fd": {
     "id": "a3d3d0f3-9f5d-4937-b5e8-e6886c8362fd",
     "prev": "082ff595-e869-48d9-b43f-8fd384cb2229",
     "regions": {
      "af1a5ca0-b200-4b41-9150-83044a25aa46": {
       "attrs": {
        "height": 0.8,
        "width": 0.8,
        "x": 0.1,
        "y": 0.1
       },
       "content": {
        "cell": "35065ecc-23d5-4ba1-97a5-87d666d8eaac",
        "part": "whole"
       },
       "id": "af1a5ca0-b200-4b41-9150-83044a25aa46"
      }
     }
    },
    "b0b1dc01-6681-4517-8d01-fa8133214610": {
     "id": "b0b1dc01-6681-4517-8d01-fa8133214610",
     "prev": "4fbb5f5f-a9ca-4768-9e05-33c73cc1d5d5",
     "regions": {
      "f750fa01-0369-48c5-bf76-038b0854c1ce": {
       "attrs": {
        "height": 0.8,
        "width": 0.8,
        "x": 0.1,
        "y": 0.1
       },
       "content": {
        "cell": "71b9cda9-5327-4073-a15c-e35ab7fc6025",
        "part": "whole"
       },
       "id": "f750fa01-0369-48c5-bf76-038b0854c1ce"
      }
     }
    },
    "c0ada271-6d7f-4692-8a48-7270b2f21b49": {
     "id": "c0ada271-6d7f-4692-8a48-7270b2f21b49",
     "prev": "1392a2d2-399a-483d-9fc3-47a02b686a27",
     "regions": {
      "1d1d8d7c-1394-4250-9865-431fa5ba7303": {
       "attrs": {
        "height": 0.8,
        "width": 0.8,
        "x": 0.1,
        "y": 0.1
       },
       "content": {
        "cell": "ec8c5b3f-fd75-4cb6-a7b1-66465ecdf859",
        "part": "whole"
       },
       "id": "1d1d8d7c-1394-4250-9865-431fa5ba7303"
      }
     }
    },
    "c427a747-0016-45e7-9528-a86f54dbb836": {
     "id": "c427a747-0016-45e7-9528-a86f54dbb836",
     "prev": "899837f9-272a-4ecc-a325-40dcb1a754dc",
     "regions": {
      "92e7a969-02f5-46ce-8be9-6f7db20b907d": {
       "attrs": {
        "height": 0.8,
        "width": 0.8,
        "x": 0.1,
        "y": 0.1
       },
       "content": {
        "cell": "df5c1106-3d80-444f-a5eb-2f79c80b307e",
        "part": "whole"
       },
       "id": "92e7a969-02f5-46ce-8be9-6f7db20b907d"
      }
     }
    },
    "c53eb5af-c258-4a07-8cf1-93f61b0e1af0": {
     "id": "c53eb5af-c258-4a07-8cf1-93f61b0e1af0",
     "prev": "3c8643f5-0665-4a5a-a016-f5f0b468d499",
     "regions": {
      "5cd77556-87d3-4d62-93c3-b75e2579a5a8": {
       "attrs": {
        "height": 0.8,
        "width": 0.8,
        "x": 0.1,
        "y": 0.1
       },
       "content": {
        "cell": "99e7d97e-6edf-4e97-a36c-ed4d6ea11da1",
        "part": "whole"
       },
       "id": "5cd77556-87d3-4d62-93c3-b75e2579a5a8"
      }
     }
    },
    "c683b639-41d0-48bb-9613-47695e286115": {
     "id": "c683b639-41d0-48bb-9613-47695e286115",
     "prev": "406d319e-72fe-4e2a-ba0e-1c560e77323d",
     "regions": {
      "58bc78f2-6db4-4ec2-adfd-965df4793142": {
       "attrs": {
        "height": 0.8,
        "width": 0.8,
        "x": 0.1,
        "y": 0.1
       },
       "content": {
        "cell": "68ef6021-9cf1-4a0f-960e-82afb7de1a8b",
        "part": "whole"
       },
       "id": "58bc78f2-6db4-4ec2-adfd-965df4793142"
      }
     }
    },
    "c6f787eb-e073-45ee-9b95-f069ba54695d": {
     "id": "c6f787eb-e073-45ee-9b95-f069ba54695d",
     "prev": "725202a5-3d22-41e7-86d0-b0438b8bcf5c",
     "regions": {
      "a0ff0773-18c0-4600-ba0e-8a0525220ce4": {
       "attrs": {
        "height": 0.8,
        "width": 0.8,
        "x": 0.1,
        "y": 0.1
       },
       "content": {
        "cell": "a295feca-64f7-471e-939a-874f56e3d3de",
        "part": "whole"
       },
       "id": "a0ff0773-18c0-4600-ba0e-8a0525220ce4"
      }
     }
    },
    "daa6bb9c-ea42-4b01-91d0-0860b92495c0": {
     "id": "daa6bb9c-ea42-4b01-91d0-0860b92495c0",
     "prev": "9f053ebf-ce23-4aa9-ad56-2196e5626084",
     "regions": {
      "77c3c1b8-5d8b-4733-ac9d-195b1771d831": {
       "attrs": {
        "height": 0.8,
        "width": 0.8,
        "x": 0.1,
        "y": 0.1
       },
       "content": {
        "cell": "057d2c28-bdd4-46cf-82cb-4ff5c8cf049e",
        "part": "whole"
       },
       "id": "77c3c1b8-5d8b-4733-ac9d-195b1771d831"
      }
     }
    },
    "dce74465-24e3-42ec-87d7-81a4efdfdd81": {
     "id": "dce74465-24e3-42ec-87d7-81a4efdfdd81",
     "prev": "72a45542-3e51-4ef6-9c6a-bf1f9986289f",
     "regions": {
      "56702b0f-96f5-44c0-bc12-eed7cea9b884": {
       "attrs": {
        "height": 0.8,
        "width": 0.8,
        "x": 0.1,
        "y": 0.1
       },
       "content": {
        "cell": "b0f34c8b-ab4e-42ea-8c46-e7e6ac790514",
        "part": "whole"
       },
       "id": "56702b0f-96f5-44c0-bc12-eed7cea9b884"
      }
     }
    },
    "dde6c14d-a168-4676-b05b-16da7910029e": {
     "id": "dde6c14d-a168-4676-b05b-16da7910029e",
     "prev": "c53eb5af-c258-4a07-8cf1-93f61b0e1af0",
     "regions": {
      "23af2abc-6e2d-4379-90d2-d5aa99f3a7ad": {
       "attrs": {
        "height": 0.8,
        "width": 0.8,
        "x": 0.1,
        "y": 0.1
       },
       "content": {
        "cell": "dbfd743c-92cb-47bd-96a6-34fa987a0c56",
        "part": "whole"
       },
       "id": "23af2abc-6e2d-4379-90d2-d5aa99f3a7ad"
      }
     }
    },
    "e72c39cc-ac9e-47cd-a9c7-58fe8f924ad2": {
     "id": "e72c39cc-ac9e-47cd-a9c7-58fe8f924ad2",
     "prev": "4f596115-d714-460e-a21c-9e4aff2d454c",
     "regions": {
      "e09e1e04-96ff-4223-9f4b-280d75280f85": {
       "attrs": {
        "height": 0.8,
        "width": 0.8,
        "x": 0.1,
        "y": 0.1
       },
       "content": {
        "cell": "05ed30aa-d611-49d9-b224-b8e43be20294",
        "part": "whole"
       },
       "id": "e09e1e04-96ff-4223-9f4b-280d75280f85"
      }
     }
    },
    "edef905e-6445-4e4f-bed5-9caabe87b581": {
     "id": "edef905e-6445-4e4f-bed5-9caabe87b581",
     "prev": "a3d3d0f3-9f5d-4937-b5e8-e6886c8362fd",
     "regions": {
      "0912a40d-6d52-46f9-90ce-f86eef222723": {
       "attrs": {
        "height": 0.8,
        "width": 0.8,
        "x": 0.1,
        "y": 0.1
       },
       "content": {
        "cell": "7ee8f447-60bd-4f6d-8b0a-e7afb2ee4a39",
        "part": "whole"
       },
       "id": "0912a40d-6d52-46f9-90ce-f86eef222723"
      }
     }
    }
   },
   "themes": {
    "default": "e655da13-1d6e-4208-8274-1d2fe45bb7b5",
    "theme": {
     "104509c3-fe11-431f-9f11-09f25bb49c5b": {
      "id": "104509c3-fe11-431f-9f11-09f25bb49c5b",
      "palette": {
       "19cc588f-0593-49c9-9f4b-e4d7cc113b1c": {
        "id": "19cc588f-0593-49c9-9f4b-e4d7cc113b1c",
        "rgb": [
         252,
         252,
         252
        ]
       },
       "31af15d2-7e15-44c5-ab5e-e04b16a89eff": {
        "id": "31af15d2-7e15-44c5-ab5e-e04b16a89eff",
        "rgb": [
         68,
         68,
         68
        ]
       },
       "50f92c45-a630-455b-aec3-788680ec7410": {
        "id": "50f92c45-a630-455b-aec3-788680ec7410",
        "rgb": [
         155,
         177,
         192
        ]
       },
       "c5cc3653-2ee1-402a-aba2-7caae1da4f6c": {
        "id": "c5cc3653-2ee1-402a-aba2-7caae1da4f6c",
        "rgb": [
         43,
         126,
         184
        ]
       },
       "efa7f048-9acb-414c-8b04-a26811511a21": {
        "id": "efa7f048-9acb-414c-8b04-a26811511a21",
        "rgb": [
         25.118061674008803,
         73.60176211453744,
         107.4819383259912
        ]
       }
      },
      "rules": {
       "blockquote": {
        "color": "50f92c45-a630-455b-aec3-788680ec7410"
       },
       "code": {
        "font-family": "Anonymous Pro"
       },
       "h1": {
        "color": "c5cc3653-2ee1-402a-aba2-7caae1da4f6c",
        "font-family": "Lato",
        "font-size": 8
       },
       "h2": {
        "color": "c5cc3653-2ee1-402a-aba2-7caae1da4f6c",
        "font-family": "Lato",
        "font-size": 6
       },
       "h3": {
        "color": "50f92c45-a630-455b-aec3-788680ec7410",
        "font-family": "Lato",
        "font-size": 5.5
       },
       "h4": {
        "color": "c5cc3653-2ee1-402a-aba2-7caae1da4f6c",
        "font-family": "Lato",
        "font-size": 5
       },
       "h5": {
        "font-family": "Lato"
       },
       "h6": {
        "font-family": "Lato"
       },
       "h7": {
        "font-family": "Lato"
       },
       "pre": {
        "font-family": "Anonymous Pro",
        "font-size": 4
       }
      },
      "text-base": {
       "font-family": "Merriweather",
       "font-size": 4
      }
     },
     "e655da13-1d6e-4208-8274-1d2fe45bb7b5": {
      "backgrounds": {
       "dc7afa04-bf90-40b1-82a5-726e3cff5267": {
        "background-color": "31af15d2-7e15-44c5-ab5e-e04b16a89eff",
        "id": "dc7afa04-bf90-40b1-82a5-726e3cff5267"
       }
      },
      "id": "e655da13-1d6e-4208-8274-1d2fe45bb7b5",
      "palette": {
       "19cc588f-0593-49c9-9f4b-e4d7cc113b1c": {
        "id": "19cc588f-0593-49c9-9f4b-e4d7cc113b1c",
        "rgb": [
         252,
         252,
         252
        ]
       },
       "31af15d2-7e15-44c5-ab5e-e04b16a89eff": {
        "id": "31af15d2-7e15-44c5-ab5e-e04b16a89eff",
        "rgb": [
         68,
         68,
         68
        ]
       },
       "50f92c45-a630-455b-aec3-788680ec7410": {
        "id": "50f92c45-a630-455b-aec3-788680ec7410",
        "rgb": [
         197,
         226,
         245
        ]
       },
       "c5cc3653-2ee1-402a-aba2-7caae1da4f6c": {
        "id": "c5cc3653-2ee1-402a-aba2-7caae1da4f6c",
        "rgb": [
         43,
         126,
         184
        ]
       },
       "efa7f048-9acb-414c-8b04-a26811511a21": {
        "id": "efa7f048-9acb-414c-8b04-a26811511a21",
        "rgb": [
         25.118061674008803,
         73.60176211453744,
         107.4819383259912
        ]
       }
      },
      "rules": {
       "a": {
        "color": "19cc588f-0593-49c9-9f4b-e4d7cc113b1c"
       },
       "blockquote": {
        "color": "50f92c45-a630-455b-aec3-788680ec7410",
        "font-size": 3
       },
       "code": {
        "font-family": "Anonymous Pro"
       },
       "h1": {
        "color": "19cc588f-0593-49c9-9f4b-e4d7cc113b1c",
        "font-family": "Merriweather",
        "font-size": 8
       },
       "h2": {
        "color": "19cc588f-0593-49c9-9f4b-e4d7cc113b1c",
        "font-family": "Merriweather",
        "font-size": 6
       },
       "h3": {
        "color": "50f92c45-a630-455b-aec3-788680ec7410",
        "font-family": "Lato",
        "font-size": 5.5
       },
       "h4": {
        "color": "c5cc3653-2ee1-402a-aba2-7caae1da4f6c",
        "font-family": "Lato",
        "font-size": 5
       },
       "h5": {
        "font-family": "Lato"
       },
       "h6": {
        "font-family": "Lato"
       },
       "h7": {
        "font-family": "Lato"
       },
       "li": {
        "color": "50f92c45-a630-455b-aec3-788680ec7410",
        "font-size": 3.25
       },
       "pre": {
        "font-family": "Anonymous Pro",
        "font-size": 4
       }
      },
      "text-base": {
       "color": "19cc588f-0593-49c9-9f4b-e4d7cc113b1c",
       "font-family": "Lato",
       "font-size": 4
      }
     },
     "f282933e-7a77-4842-b517-2e18cc46e468": {
      "id": "f282933e-7a77-4842-b517-2e18cc46e468",
      "palette": {
       "19cc588f-0593-49c9-9f4b-e4d7cc113b1c": {
        "id": "19cc588f-0593-49c9-9f4b-e4d7cc113b1c",
        "rgb": [
         252,
         252,
         252
        ]
       },
       "31af15d2-7e15-44c5-ab5e-e04b16a89eff": {
        "id": "31af15d2-7e15-44c5-ab5e-e04b16a89eff",
        "rgb": [
         68,
         68,
         68
        ]
       },
       "50f92c45-a630-455b-aec3-788680ec7410": {
        "id": "50f92c45-a630-455b-aec3-788680ec7410",
        "rgb": [
         155,
         177,
         192
        ]
       },
       "c5cc3653-2ee1-402a-aba2-7caae1da4f6c": {
        "id": "c5cc3653-2ee1-402a-aba2-7caae1da4f6c",
        "rgb": [
         43,
         126,
         184
        ]
       },
       "efa7f048-9acb-414c-8b04-a26811511a21": {
        "id": "efa7f048-9acb-414c-8b04-a26811511a21",
        "rgb": [
         25.118061674008803,
         73.60176211453744,
         107.4819383259912
        ]
       }
      },
      "rules": {
       "blockquote": {
        "color": "50f92c45-a630-455b-aec3-788680ec7410"
       },
       "code": {
        "font-family": "Anonymous Pro"
       },
       "h1": {
        "color": "c5cc3653-2ee1-402a-aba2-7caae1da4f6c",
        "font-family": "Lato",
        "font-size": 8
       },
       "h2": {
        "color": "c5cc3653-2ee1-402a-aba2-7caae1da4f6c",
        "font-family": "Lato",
        "font-size": 6
       },
       "h3": {
        "color": "50f92c45-a630-455b-aec3-788680ec7410",
        "font-family": "Lato",
        "font-size": 5.5
       },
       "h4": {
        "color": "c5cc3653-2ee1-402a-aba2-7caae1da4f6c",
        "font-family": "Lato",
        "font-size": 5
       },
       "h5": {
        "font-family": "Lato"
       },
       "h6": {
        "font-family": "Lato"
       },
       "h7": {
        "font-family": "Lato"
       },
       "pre": {
        "font-family": "Anonymous Pro",
        "font-size": 4
       }
      },
      "text-base": {
       "font-family": "Merriweather",
       "font-size": 4
      }
     }
    }
   }
  }
 },
 "nbformat": 4,
 "nbformat_minor": 2
}
